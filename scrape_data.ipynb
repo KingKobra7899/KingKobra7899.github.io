{
 "cells": [
  {
   "cell_type": "code",
   "execution_count": 293,
   "id": "f8cfcb0b",
   "metadata": {},
   "outputs": [],
   "source": [
    "import pandas as pd\n",
    "import matplotlib.pyplot as plt\n",
    "import nfl_data_py as nfl"
   ]
  },
  {
   "cell_type": "code",
   "execution_count": 294,
   "id": "db442051",
   "metadata": {},
   "outputs": [
    {
     "name": "stdout",
     "output_type": "stream",
     "text": [
      "Downcasting floats.\n"
     ]
    }
   ],
   "source": [
    "data = nfl.import_weekly_data(range(2020, 2025))"
   ]
  },
  {
   "cell_type": "code",
   "execution_count": 295,
   "id": "b6bc8189",
   "metadata": {},
   "outputs": [],
   "source": [
    "data = data[data[\"season_type\"] == \"REG\"]\n",
    "data[\"player_display_name\"] = pd.Categorical(data[\"player_display_name\"])\n",
    "group_dfs = {group: group_df for group, group_df in data.groupby('position_group')}"
   ]
  },
  {
   "cell_type": "code",
   "execution_count": 296,
   "id": "9b10ff61",
   "metadata": {},
   "outputs": [],
   "source": [
    "all_cols = [\"player_id\", \"player_display_name\",\"position_group\", \"recent_team\", \"season\", \"week\"]\n",
    "weapon_cols = [\"carries\", \"rushing_yards\",\"rushing_tds\",\"rushing_fumbles_lost\",\"receptions\",\"receiving_yards\",\"receiving_tds\", \"receiving_yards_after_catch\", \"receiving_fumbles_lost\", \"receiving_epa\", \"wopr\",\"racr\",\"rushing_epa\"]\n",
    "passing_cols = [\"completions\", \"attempts\",\"passing_yards\",\"passing_tds\",\"interceptions\",\"sacks\",\"sack_fumbles_lost\", \"passing_epa\", \"pacr\", \"dakota\"]\n",
    "QB_data = group_dfs[\"QB\"][all_cols + passing_cols + weapon_cols].reset_index().fillna(0)\n",
    "WR_data = group_dfs[\"WR\"][all_cols + passing_cols + weapon_cols].reset_index().fillna(0)\n",
    "TE_data = group_dfs[\"TE\"][all_cols + passing_cols + weapon_cols].reset_index().fillna(0)\n",
    "RB_data = group_dfs[\"RB\"][all_cols + passing_cols + weapon_cols].reset_index().fillna(0)\n"
   ]
  },
  {
   "cell_type": "code",
   "execution_count": 297,
   "id": "5b8bb296",
   "metadata": {},
   "outputs": [],
   "source": [
    "import pandas as pd\n",
    "\n",
    "def calculate_fantasy_points(df: pd.DataFrame) -> pd.Series:\n",
    "    \"\"\"\n",
    "    Calculate fantasy points for offensive players using Old School settings.\n",
    "    \"\"\"\n",
    "\n",
    "    # Initialize to 0\n",
    "    fantasy_points = pd.Series(0, index=df.index, dtype=float)\n",
    "\n",
    "    # Rushing\n",
    "    if \"rushing_yards\" in df:\n",
    "        fantasy_points += df[\"rushing_yards\"] / 10\n",
    "        fantasy_points += (df[\"rushing_yards\"] >= 100).astype(int)\n",
    "        fantasy_points += (df[\"rushing_yards\"] >= 200).astype(int)\n",
    "    if \"rushing_tds\" in df:\n",
    "        fantasy_points += df[\"rushing_tds\"] * 6\n",
    "    if \"rushing_fumbles_lost\" in df:\n",
    "        fantasy_points += df[\"rushing_fumbles_lost\"] * -2\n",
    "\n",
    "    # Receiving\n",
    "    if \"receptions\" in df:\n",
    "        fantasy_points += df[\"receptions\"] * 0.5\n",
    "    if \"receiving_yards\" in df:\n",
    "        fantasy_points += df[\"receiving_yards\"] / 10\n",
    "        fantasy_points += (df[\"receiving_yards\"] >= 100).astype(int)\n",
    "        fantasy_points += (df[\"receiving_yards\"] >= 200).astype(int)\n",
    "    if \"receiving_tds\" in df:\n",
    "        fantasy_points += df[\"receiving_tds\"] * 6\n",
    "    if \"receiving_fumbles_lost\" in df:\n",
    "        fantasy_points += df[\"receiving_fumbles_lost\"] * -2\n",
    "\n",
    "    # Passing (for QBs)\n",
    "    if \"passing_yards\" in df:\n",
    "        fantasy_points += df[\"passing_yards\"] / 25\n",
    "        fantasy_points += (df[\"passing_yards\"] >= 400).astype(int)\n",
    "        fantasy_points += (df[\"passing_yards\"] >= 500).astype(int)\n",
    "    if \"passing_tds\" in df:\n",
    "        fantasy_points += df[\"passing_tds\"] * 4\n",
    "    if \"interceptions\" in df:\n",
    "        fantasy_points += df[\"interceptions\"] * -2\n",
    "    if \"sacks\" in df:\n",
    "        fantasy_points += df[\"sacks\"] * -1\n",
    "    if \"sack_fumbles_lost\" in df:\n",
    "        fantasy_points += df[\"sack_fumbles_lost\"] * -2\n",
    "\n",
    "    return fantasy_points\n"
   ]
  },
  {
   "cell_type": "code",
   "execution_count": 298,
   "id": "429c83ed",
   "metadata": {},
   "outputs": [],
   "source": [
    "QB_data[\"fantasy_points\"] = calculate_fantasy_points(QB_data)\n",
    "WR_data[\"fantasy_points\"] = calculate_fantasy_points(WR_data)\n",
    "TE_data[\"fantasy_points\"] = calculate_fantasy_points(TE_data)\n",
    "RB_data[\"fantasy_points\"] = calculate_fantasy_points(RB_data)"
   ]
  },
  {
   "cell_type": "code",
   "execution_count": 299,
   "id": "1e88644b",
   "metadata": {},
   "outputs": [],
   "source": [
    "def group_data(data):\n",
    "    # Group by the specified columns and calculate means\n",
    "    grouped = data.drop(columns=[\"index\", \"week\"]).groupby([\"player_id\", \"player_display_name\", \"position_group\", \"season\"]).agg(\"mean\").reset_index()\n",
    "    \n",
    "    # Count observations per group to filter out groups with <5 observations\n",
    "    group_counts = data.groupby([\"player_id\", \"player_display_name\", \"position_group\", \"season\"]).size().reset_index(name='count')\n",
    "    \n",
    "    # Filter to keep only groups with 5 or more observations\n",
    "    valid_groups = group_counts[group_counts['count'] >= 5]\n",
    "    \n",
    "    # Merge to keep only the valid groups in the final result\n",
    "    result = grouped.merge(valid_groups[[\"player_id\", \"player_display_name\", \"position_group\", \"season\"]], \n",
    "                          on=[\"player_id\", \"player_display_name\", \"position_group\", \"season\"])\n",
    "    \n",
    "    return result"
   ]
  },
  {
   "cell_type": "code",
   "execution_count": 300,
   "id": "e085deb7",
   "metadata": {},
   "outputs": [],
   "source": [
    "def get_next_fpg(data):\n",
    "    data = data.sort_values(by=[\"player_id\", \"player_display_name\", \"season\"])\n",
    "    return data.groupby([\"player_id\", \"player_display_name\"])[\"fantasy_points\"].shift(-1)\n"
   ]
  },
  {
   "cell_type": "code",
   "execution_count": 301,
   "id": "1ad3aec0",
   "metadata": {},
   "outputs": [
    {
     "name": "stderr",
     "output_type": "stream",
     "text": [
      "/var/folders/7y/fwm3j5vs3p72s234bsqbz8sw0000gp/T/ipykernel_11429/1123169703.py:3: FutureWarning: The default value of numeric_only in DataFrameGroupBy.mean is deprecated. In a future version, numeric_only will default to False. Either specify numeric_only or select only columns which should be valid for the function.\n",
      "  grouped = data.drop(columns=[\"index\", \"week\"]).groupby([\"player_id\", \"player_display_name\", \"position_group\", \"season\"]).agg(\"mean\").reset_index()\n",
      "/var/folders/7y/fwm3j5vs3p72s234bsqbz8sw0000gp/T/ipykernel_11429/1123169703.py:3: FutureWarning: The default value of numeric_only in DataFrameGroupBy.mean is deprecated. In a future version, numeric_only will default to False. Either specify numeric_only or select only columns which should be valid for the function.\n",
      "  grouped = data.drop(columns=[\"index\", \"week\"]).groupby([\"player_id\", \"player_display_name\", \"position_group\", \"season\"]).agg(\"mean\").reset_index()\n",
      "/var/folders/7y/fwm3j5vs3p72s234bsqbz8sw0000gp/T/ipykernel_11429/1123169703.py:3: FutureWarning: The default value of numeric_only in DataFrameGroupBy.mean is deprecated. In a future version, numeric_only will default to False. Either specify numeric_only or select only columns which should be valid for the function.\n",
      "  grouped = data.drop(columns=[\"index\", \"week\"]).groupby([\"player_id\", \"player_display_name\", \"position_group\", \"season\"]).agg(\"mean\").reset_index()\n",
      "/var/folders/7y/fwm3j5vs3p72s234bsqbz8sw0000gp/T/ipykernel_11429/1123169703.py:3: FutureWarning: The default value of numeric_only in DataFrameGroupBy.mean is deprecated. In a future version, numeric_only will default to False. Either specify numeric_only or select only columns which should be valid for the function.\n",
      "  grouped = data.drop(columns=[\"index\", \"week\"]).groupby([\"player_id\", \"player_display_name\", \"position_group\", \"season\"]).agg(\"mean\").reset_index()\n"
     ]
    }
   ],
   "source": [
    "QB_data = group_data(QB_data)\n",
    "WR_data = group_data(WR_data)\n",
    "TE_data = group_data(TE_data)\n",
    "RB_data = group_data(RB_data)\n",
    "\n",
    "QB_data[\"next_fantasy_points\"] = get_next_fpg(QB_data)\n",
    "WR_data[\"next_fantasy_points\"] = get_next_fpg(WR_data)\n",
    "TE_data[\"next_fantasy_points\"] = get_next_fpg(TE_data)\n",
    "RB_data[\"next_fantasy_points\"] = get_next_fpg(RB_data)\n",
    "\n",
    "QB_current = QB_data[QB_data[\"season\"] == 2024]\n",
    "WR_current = WR_data[WR_data[\"season\"] == 2024]\n",
    "TE_current = TE_data[TE_data[\"season\"] == 2024]\n",
    "RB_current = RB_data[RB_data[\"season\"] == 2024]\n",
    "\n",
    "QB_data = QB_data[(QB_data[\"season\"] != 2024) & (~QB_data[\"next_fantasy_points\"].isna())]\n",
    "WR_data = WR_data[(WR_data[\"season\"] != 2024) & (~WR_data[\"next_fantasy_points\"].isna())]\n",
    "TE_data = TE_data[(TE_data[\"season\"] != 2024) & (~TE_data[\"next_fantasy_points\"].isna())]\n",
    "RB_data = RB_data[(RB_data[\"season\"] != 2024) & (~RB_data[\"next_fantasy_points\"].isna())]\n"
   ]
  },
  {
   "cell_type": "code",
   "execution_count": 302,
   "id": "8eaa0a94",
   "metadata": {},
   "outputs": [],
   "source": [
    "def get_replacement_level(df, num_slots):\n",
    "    \"\"\"\n",
    "    Returns the average fantasy points per game of the worst player of the position group that could be starting (num_teams * slots per team)\n",
    "    \"\"\"\n",
    "    df = df.sort_values(by=[\"season\", \"fantasy_points\"])\n",
    "    df[\"rank\"] = df.groupby([\"season\"])[\"fantasy_points\"].rank(ascending=False)\n",
    "    \n",
    "    return df[\"fantasy_points\"][df[\"rank\"] == 10 * num_slots].mean()\n",
    "\n",
    "def get_elite_level(df, elite_percentile=0.1, size=0.1):\n",
    "    \"\"\"\n",
    "    Returns the mean fantasy points for top n% of players\n",
    "    \"\"\"\n",
    "    df = df.sort_values(by=[\"season\", \"fantasy_points\"])\n",
    "    df[\"rank\"] = df.groupby([\"season\"])[\"fantasy_points\"].rank(ascending=False, pct=True)\n",
    "    \n",
    "    return df[\"fantasy_points\"][(df[\"rank\"] <= elite_percentile) & (df[\"rank\"] > elite_percentile - size)].mean()"
   ]
  },
  {
   "cell_type": "code",
   "execution_count": 303,
   "id": "14c890b3",
   "metadata": {},
   "outputs": [],
   "source": [
    "WR_PAR = get_elite_level(WR_data, 0.1) - get_replacement_level(WR_data, 3)\n",
    "RB_PAR = get_elite_level(RB_data, 0.1) - get_replacement_level(RB_data, 2)\n",
    "QB_PAR = get_elite_level(QB_data, 0.1) - get_replacement_level(QB_data, 1)\n",
    "TE_PAR = get_elite_level(TE_data, 0.1) - get_replacement_level(TE_data, 1)"
   ]
  },
  {
   "cell_type": "code",
   "execution_count": 304,
   "id": "cc101dc6",
   "metadata": {},
   "outputs": [
    {
     "name": "stdout",
     "output_type": "stream",
     "text": [
      "WR PAR: 5.0541329518265545, RB PAR: 5.264447538412, QB PAR: 4.607333709488433, TE PAR: 3.145265456253883\n"
     ]
    }
   ],
   "source": [
    "print(f\"WR PAR: {WR_PAR}, RB PAR: {RB_PAR}, QB PAR: {QB_PAR}, TE PAR: {TE_PAR}\")"
   ]
  },
  {
   "cell_type": "code",
   "execution_count": 305,
   "id": "2ff1c7ff",
   "metadata": {},
   "outputs": [],
   "source": [
    "import pandas as pd\n",
    "\n",
    "def get_scarcity_ratios(data, starter_counts):\n",
    "    \"\"\"\n",
    "    Compute number of startable players and scarcity ratio per season per position.\n",
    "\n",
    "    Parameters:\n",
    "    - data: DataFrame with columns ['position', 'season', 'fantasy_points']\n",
    "    - starter_counts: dict, e.g., {'QB': 12, 'RB': 24, 'WR': 24, 'TE': 12}\n",
    "\n",
    "    Returns:\n",
    "    - DataFrame with columns ['position', 'season', 'startable_count', 'total_players', 'scarcity_ratio']\n",
    "    \"\"\"\n",
    "    results = []\n",
    "\n",
    "    grouped = data.groupby(['season'])\n",
    "\n",
    "    for (season), group in grouped:\n",
    "        total_players = len(group)\n",
    "        starter_limit = starter_counts\n",
    "        startable_count = min(starter_limit, total_players)  # in case there are fewer players than the limit\n",
    "        scarcity_ratio = startable_count / total_players if total_players > 0 else None\n",
    "\n",
    "        results.append({\n",
    "            'season': season,\n",
    "            'startable_count': startable_count,\n",
    "            'total_players': total_players,\n",
    "            'scarcity_ratio': scarcity_ratio\n",
    "        })\n",
    "\n",
    "    return scarcity_ratio\n"
   ]
  },
  {
   "cell_type": "code",
   "execution_count": 306,
   "id": "2520bd47",
   "metadata": {},
   "outputs": [
    {
     "name": "stderr",
     "output_type": "stream",
     "text": [
      "/var/folders/7y/fwm3j5vs3p72s234bsqbz8sw0000gp/T/ipykernel_11429/991890443.py:18: FutureWarning: In a future version of pandas, a length 1 tuple will be returned when iterating over a groupby with a grouper equal to a list of length 1. Don't supply a list with a single grouper to avoid this warning.\n",
      "  for (season), group in grouped:\n",
      "/var/folders/7y/fwm3j5vs3p72s234bsqbz8sw0000gp/T/ipykernel_11429/991890443.py:18: FutureWarning: In a future version of pandas, a length 1 tuple will be returned when iterating over a groupby with a grouper equal to a list of length 1. Don't supply a list with a single grouper to avoid this warning.\n",
      "  for (season), group in grouped:\n",
      "/var/folders/7y/fwm3j5vs3p72s234bsqbz8sw0000gp/T/ipykernel_11429/991890443.py:18: FutureWarning: In a future version of pandas, a length 1 tuple will be returned when iterating over a groupby with a grouper equal to a list of length 1. Don't supply a list with a single grouper to avoid this warning.\n",
      "  for (season), group in grouped:\n",
      "/var/folders/7y/fwm3j5vs3p72s234bsqbz8sw0000gp/T/ipykernel_11429/991890443.py:18: FutureWarning: In a future version of pandas, a length 1 tuple will be returned when iterating over a groupby with a grouper equal to a list of length 1. Don't supply a list with a single grouper to avoid this warning.\n",
      "  for (season), group in grouped:\n"
     ]
    }
   ],
   "source": [
    "QB_scarcity = get_scarcity_ratios(QB_data, 10)\n",
    "TE_scarcity = get_scarcity_ratios(TE_data, 10)\n",
    "WR_scarcity = get_scarcity_ratios(WR_data, 30)\n",
    "RB_scarcity = get_scarcity_ratios(RB_data, 20)"
   ]
  },
  {
   "cell_type": "code",
   "execution_count": 307,
   "id": "515e2bbf",
   "metadata": {},
   "outputs": [
    {
     "name": "stdout",
     "output_type": "stream",
     "text": [
      "  position_group       PAR  scarcity_ratio   dropoff  slots  replacement  \\\n",
      "0             QB  4.607334        0.263158  2.927625      1    13.938434   \n",
      "1             WR  5.054133        0.267857  3.576067      3    10.747083   \n",
      "2             RB  5.264448        0.253165  3.685603      2    12.204858   \n",
      "3             TE  3.145265        0.149254  3.050619      1     8.349370   \n",
      "\n",
      "   importance  \n",
      "0    1.000000  \n",
      "1    1.125261  \n",
      "2    1.234690  \n",
      "3    1.449818  \n"
     ]
    }
   ],
   "source": [
    "positions = [\"QB\", \"WR\", \"RB\", \"TE\"]\n",
    "par_values = [QB_PAR, WR_PAR, RB_PAR, TE_PAR]\n",
    "replacement = [get_replacement_level(WR_data, 1), \n",
    "               get_replacement_level(WR_data, 3), \n",
    "               get_replacement_level(RB_data, 2),\n",
    "               get_replacement_level(TE_data, 1)]\n",
    "dropoff = [get_elite_level(QB_data, 0.1) - get_elite_level(QB_data, 0.2), \n",
    "           get_elite_level(WR_data, 0.1) - get_elite_level(WR_data, 0.2),\n",
    "           get_elite_level(RB_data, 0.1) - get_elite_level(RB_data, 0.2),\n",
    "           get_elite_level(TE_data, 0.1) - get_elite_level(TE_data, 0.2)]\n",
    "scarcity_values = [QB_scarcity, WR_scarcity, RB_scarcity, TE_scarcity]\n",
    "slots = [1, 3, 2, 1]\n",
    "\n",
    "importance_df = pd.DataFrame({\n",
    "    \"position_group\": positions,\n",
    "    \"PAR\": par_values,\n",
    "    \"scarcity_ratio\": scarcity_values,\n",
    "    \"dropoff\" :dropoff,\n",
    "    \"slots\":slots,\n",
    "    \"replacement\":replacement\n",
    "})\n",
    "importance_df[\"importance\"] = (importance_df[\"PAR\"] / (importance_df[\"scarcity_ratio\"])) + (importance_df[\"dropoff\"] / (importance_df[\"scarcity_ratio\"]))\n",
    "importance_df[\"importance\"] = importance_df[\"importance\"] / importance_df[\"importance\"].min()\n",
    "\n",
    "print(importance_df)\n"
   ]
  },
  {
   "cell_type": "code",
   "execution_count": 308,
   "id": "3b11ba6a",
   "metadata": {},
   "outputs": [],
   "source": [
    "def generate_projection_model(data, raw_model):\n",
    "    X = data[passing_cols + weapon_cols + [\"fantasy_points\"]]\n",
    "    y = data[\"next_fantasy_points\"]\n",
    "    raw_model.fit(X, y)\n",
    "    return raw_model"
   ]
  },
  {
   "cell_type": "code",
   "execution_count": 309,
   "id": "4dabcbaf",
   "metadata": {},
   "outputs": [],
   "source": [
    "from sklearn.ensemble import GradientBoostingRegressor\n",
    "\n",
    "proj_base = GradientBoostingRegressor(n_estimators = 500)\n",
    "\n",
    "WR_model = generate_projection_model(WR_data, proj_base)\n",
    "WR_current[\"next_fantasy_points\"] = WR_model.predict(WR_current[passing_cols + weapon_cols + [\"fantasy_points\"]])\n",
    "\n",
    "RB_model = generate_projection_model(RB_data, proj_base)\n",
    "RB_current[\"next_fantasy_points\"] = RB_model.predict(RB_current[passing_cols + weapon_cols + [\"fantasy_points\"]])\n",
    "\n",
    "QB_model = generate_projection_model(QB_data, proj_base)\n",
    "QB_current[\"next_fantasy_points\"] = QB_model.predict(QB_current[passing_cols + weapon_cols + [\"fantasy_points\"]])\n",
    "\n",
    "TE_model = generate_projection_model(TE_data, proj_base)\n",
    "TE_current[\"next_fantasy_points\"] = TE_model.predict(TE_current[passing_cols + weapon_cols + [\"fantasy_points\"]])"
   ]
  },
  {
   "cell_type": "code",
   "execution_count": 310,
   "id": "72cb2009",
   "metadata": {},
   "outputs": [],
   "source": [
    "import plotly.express as px\n",
    "import pandas as pd\n",
    "\n",
    "def get_feature_importance(model):\n",
    "    df = pd.DataFrame({\n",
    "        'feature': model.feature_names_in_,\n",
    "        'importance': model.feature_importances_\n",
    "    })\n",
    "\n",
    "    # Sort by importance\n",
    "    df = df.sort_values('importance', ascending=True)\n",
    "\n",
    "    # Create horizontal bar plot\n",
    "    fig = px.bar(df, \n",
    "                x='importance', \n",
    "                y='feature',\n",
    "                orientation='h',\n",
    "                title='Gradient Boosting Feature Importance',\n",
    "                color='importance',\n",
    "                color_continuous_scale='viridis')\n",
    "\n",
    "    fig.update_layout(\n",
    "        xaxis_title=\"Feature Importance\",\n",
    "        yaxis_title=\"Features\",\n",
    "        height=max(400, len(df) * 25),\n",
    "        showlegend=False\n",
    "    )\n",
    "\n",
    "    fig.show()\n"
   ]
  },
  {
   "cell_type": "code",
   "execution_count": 311,
   "id": "5aafac3c",
   "metadata": {},
   "outputs": [],
   "source": [
    "QB_current = pd.merge(QB_current, importance_df)[[\"player_display_name\",\"position_group\", \"next_fantasy_points\", \"importance\",\"replacement\"]]\n",
    "RB_current = pd.merge(RB_current, importance_df)[[\"player_display_name\", \"position_group\",\"next_fantasy_points\", \"importance\",\"replacement\"]]\n",
    "WR_current = pd.merge(WR_current, importance_df)[[\"player_display_name\", \"position_group\",\"next_fantasy_points\", \"importance\",\"replacement\"]]\n",
    "TE_current = pd.merge(TE_current, importance_df)[[\"player_display_name\", \"position_group\",\"next_fantasy_points\", \"importance\",\"replacement\"]]"
   ]
  },
  {
   "cell_type": "code",
   "execution_count": 312,
   "id": "59b9546f",
   "metadata": {},
   "outputs": [],
   "source": [
    "big_board = pd.concat([QB_current, RB_current, WR_current, TE_current])"
   ]
  },
  {
   "cell_type": "code",
   "execution_count": 313,
   "id": "3ceca09c",
   "metadata": {},
   "outputs": [],
   "source": [
    "big_board[\"draft_value\"] = big_board[\"next_fantasy_points\"]  * big_board[\"importance\"]"
   ]
  },
  {
   "cell_type": "code",
   "execution_count": 314,
   "id": "2094d49b",
   "metadata": {},
   "outputs": [],
   "source": [
    "big_board[\"PAR\"] = big_board[\"next_fantasy_points\"] - big_board[\"replacement\"]\n",
    "big_board.to_csv(\"big_board.csv\")"
   ]
  }
 ],
 "metadata": {
  "kernelspec": {
   "display_name": ".venv",
   "language": "python",
   "name": "python3"
  },
  "language_info": {
   "codemirror_mode": {
    "name": "ipython",
    "version": 3
   },
   "file_extension": ".py",
   "mimetype": "text/x-python",
   "name": "python",
   "nbconvert_exporter": "python",
   "pygments_lexer": "ipython3",
   "version": "3.12.8"
  }
 },
 "nbformat": 4,
 "nbformat_minor": 5
}
