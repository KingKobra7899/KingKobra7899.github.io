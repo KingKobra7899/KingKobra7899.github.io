{
 "cells": [
  {
   "cell_type": "code",
   "execution_count": 194,
   "id": "f8cfcb0b",
   "metadata": {},
   "outputs": [],
   "source": [
    "import pandas as pd\n",
    "import matplotlib.pyplot as plt\n",
    "import nfl_data_py as nfl"
   ]
  },
  {
   "cell_type": "code",
   "execution_count": 195,
   "id": "db442051",
   "metadata": {},
   "outputs": [
    {
     "name": "stdout",
     "output_type": "stream",
     "text": [
      "Downcasting floats.\n"
     ]
    }
   ],
   "source": [
    "data = nfl.import_weekly_data(range(2020, 2025))"
   ]
  },
  {
   "cell_type": "code",
   "execution_count": 196,
   "id": "b6bc8189",
   "metadata": {},
   "outputs": [],
   "source": [
    "data = data[data[\"season_type\"] == \"REG\"]\n",
    "data[\"player_display_name\"] = pd.Categorical(data[\"player_display_name\"])\n",
    "group_dfs = {group: group_df for group, group_df in data.groupby('position_group')}"
   ]
  },
  {
   "cell_type": "code",
   "execution_count": null,
   "id": "9b10ff61",
   "metadata": {},
   "outputs": [],
   "source": [
    "all_cols = [\"player_id\", \"player_display_name\",\"position_group\", \"recent_team\", \"season\", \"week\"]\n",
    "weapon_cols = [\"carries\", \"rushing_yards\",\"rushing_tds\",\"rushing_fumbles_lost\",\"receptions\",\"receiving_yards\",\"receiving_tds\", \"receiving_yards_after_catch\", \"receiving_fumbles_lost\", \"receiving_epa\", \"wopr\",\"racr\",\"rushing_epa\"]\n",
    "passing_cols = [\"completions\", \"attempts\",\"passing_yards\",\"passing_tds\",\"interceptions\",\"sacks\",\"sack_fumbles_lost\", \"passing_epa\", \"pacr\", \"dakota\"]\n",
    "QB_data = group_dfs[\"QB\"][all_cols + passing_cols + weapon_cols].reset_index().fillna(0)\n",
    "WR_data = group_dfs[\"WR\"][all_cols + passing_cols + weapon_cols].reset_index().fillna(0)\n",
    "TE_data = group_dfs[\"TE\"][all_cols + passing_cols + weapon_cols].reset_index().fillna(0)\n",
    "RB_data = group_dfs[\"RB\"][all_cols + passing_cols + weapon_cols].reset_index().fillna(0)\n"
   ]
  },
  {
   "cell_type": "code",
   "execution_count": 198,
   "id": "5b8bb296",
   "metadata": {},
   "outputs": [],
   "source": [
    "import pandas as pd\n",
    "\n",
    "def calculate_fantasy_points(df: pd.DataFrame) -> pd.Series:\n",
    "    \"\"\"\n",
    "    Calculate fantasy points for offensive players using Old School settings.\n",
    "    \"\"\"\n",
    "\n",
    "    # Initialize to 0\n",
    "    fantasy_points = pd.Series(0, index=df.index, dtype=float)\n",
    "\n",
    "    # Rushing\n",
    "    if \"rushing_yards\" in df:\n",
    "        fantasy_points += df[\"rushing_yards\"] / 10\n",
    "        fantasy_points += (df[\"rushing_yards\"] >= 100).astype(int)\n",
    "        fantasy_points += (df[\"rushing_yards\"] >= 200).astype(int)\n",
    "    if \"rushing_tds\" in df:\n",
    "        fantasy_points += df[\"rushing_tds\"] * 6\n",
    "    if \"rushing_fumbles_lost\" in df:\n",
    "        fantasy_points += df[\"rushing_fumbles_lost\"] * -2\n",
    "\n",
    "    # Receiving\n",
    "    if \"receptions\" in df:\n",
    "        fantasy_points += df[\"receptions\"] * 0.5\n",
    "    if \"receiving_yards\" in df:\n",
    "        fantasy_points += df[\"receiving_yards\"] / 10\n",
    "        fantasy_points += (df[\"receiving_yards\"] >= 100).astype(int)\n",
    "        fantasy_points += (df[\"receiving_yards\"] >= 200).astype(int)\n",
    "    if \"receiving_tds\" in df:\n",
    "        fantasy_points += df[\"receiving_tds\"] * 6\n",
    "    if \"receiving_fumbles_lost\" in df:\n",
    "        fantasy_points += df[\"receiving_fumbles_lost\"] * -2\n",
    "\n",
    "    # Passing (for QBs)\n",
    "    if \"passing_yards\" in df:\n",
    "        fantasy_points += df[\"passing_yards\"] / 25\n",
    "        fantasy_points += (df[\"passing_yards\"] >= 400).astype(int)\n",
    "        fantasy_points += (df[\"passing_yards\"] >= 500).astype(int)\n",
    "    if \"passing_tds\" in df:\n",
    "        fantasy_points += df[\"passing_tds\"] * 4\n",
    "    if \"interceptions\" in df:\n",
    "        fantasy_points += df[\"interceptions\"] * -2\n",
    "    if \"sacks\" in df:\n",
    "        fantasy_points += df[\"sacks\"] * -1\n",
    "    if \"sack_fumbles_lost\" in df:\n",
    "        fantasy_points += df[\"sack_fumbles_lost\"] * -2\n",
    "\n",
    "    return fantasy_points\n"
   ]
  },
  {
   "cell_type": "code",
   "execution_count": 199,
   "id": "429c83ed",
   "metadata": {},
   "outputs": [],
   "source": [
    "QB_data[\"fantasy_points\"] = calculate_fantasy_points(QB_data)\n",
    "WR_data[\"fantasy_points\"] = calculate_fantasy_points(WR_data)\n",
    "TE_data[\"fantasy_points\"] = calculate_fantasy_points(TE_data)\n",
    "RB_data[\"fantasy_points\"] = calculate_fantasy_points(RB_data)"
   ]
  },
  {
   "cell_type": "code",
   "execution_count": 200,
   "id": "1e88644b",
   "metadata": {},
   "outputs": [],
   "source": [
    "def group_data(data):\n",
    "    # Group by the specified columns and calculate means\n",
    "    grouped = data.drop(columns=[\"index\", \"week\"]).groupby([\"player_id\", \"player_display_name\", \"position_group\", \"season\"]).agg(\"mean\").reset_index()\n",
    "    \n",
    "    # Count observations per group to filter out groups with <5 observations\n",
    "    group_counts = data.groupby([\"player_id\", \"player_display_name\", \"position_group\", \"season\"]).size().reset_index(name='count')\n",
    "    \n",
    "    # Filter to keep only groups with 5 or more observations\n",
    "    valid_groups = group_counts[group_counts['count'] >= 5]\n",
    "    \n",
    "    # Merge to keep only the valid groups in the final result\n",
    "    result = grouped.merge(valid_groups[[\"player_id\", \"player_display_name\", \"position_group\", \"season\"]], \n",
    "                          on=[\"player_id\", \"player_display_name\", \"position_group\", \"season\"])\n",
    "    \n",
    "    return result"
   ]
  },
  {
   "cell_type": "code",
   "execution_count": 201,
   "id": "e085deb7",
   "metadata": {},
   "outputs": [],
   "source": [
    "def get_next_fpg(data):\n",
    "    data = data.sort_values(by=[\"player_id\", \"player_display_name\", \"season\"])\n",
    "    return data.groupby([\"player_id\", \"player_display_name\"])[\"fantasy_points\"].shift(-1)\n"
   ]
  },
  {
   "cell_type": "code",
   "execution_count": 202,
   "id": "1ad3aec0",
   "metadata": {},
   "outputs": [
    {
     "name": "stderr",
     "output_type": "stream",
     "text": [
      "/var/folders/7y/fwm3j5vs3p72s234bsqbz8sw0000gp/T/ipykernel_11429/1123169703.py:3: FutureWarning: The default value of numeric_only in DataFrameGroupBy.mean is deprecated. In a future version, numeric_only will default to False. Either specify numeric_only or select only columns which should be valid for the function.\n",
      "  grouped = data.drop(columns=[\"index\", \"week\"]).groupby([\"player_id\", \"player_display_name\", \"position_group\", \"season\"]).agg(\"mean\").reset_index()\n",
      "/var/folders/7y/fwm3j5vs3p72s234bsqbz8sw0000gp/T/ipykernel_11429/1123169703.py:3: FutureWarning: The default value of numeric_only in DataFrameGroupBy.mean is deprecated. In a future version, numeric_only will default to False. Either specify numeric_only or select only columns which should be valid for the function.\n",
      "  grouped = data.drop(columns=[\"index\", \"week\"]).groupby([\"player_id\", \"player_display_name\", \"position_group\", \"season\"]).agg(\"mean\").reset_index()\n",
      "/var/folders/7y/fwm3j5vs3p72s234bsqbz8sw0000gp/T/ipykernel_11429/1123169703.py:3: FutureWarning: The default value of numeric_only in DataFrameGroupBy.mean is deprecated. In a future version, numeric_only will default to False. Either specify numeric_only or select only columns which should be valid for the function.\n",
      "  grouped = data.drop(columns=[\"index\", \"week\"]).groupby([\"player_id\", \"player_display_name\", \"position_group\", \"season\"]).agg(\"mean\").reset_index()\n",
      "/var/folders/7y/fwm3j5vs3p72s234bsqbz8sw0000gp/T/ipykernel_11429/1123169703.py:3: FutureWarning: The default value of numeric_only in DataFrameGroupBy.mean is deprecated. In a future version, numeric_only will default to False. Either specify numeric_only or select only columns which should be valid for the function.\n",
      "  grouped = data.drop(columns=[\"index\", \"week\"]).groupby([\"player_id\", \"player_display_name\", \"position_group\", \"season\"]).agg(\"mean\").reset_index()\n"
     ]
    }
   ],
   "source": [
    "QB_data = group_data(QB_data)\n",
    "WR_data = group_data(WR_data)\n",
    "TE_data = group_data(TE_data)\n",
    "RB_data = group_data(RB_data)\n",
    "\n",
    "QB_data[\"next_fantasy_points\"] = get_next_fpg(QB_data)\n",
    "WR_data[\"next_fantasy_points\"] = get_next_fpg(WR_data)\n",
    "TE_data[\"next_fantasy_points\"] = get_next_fpg(TE_data)\n",
    "RB_data[\"next_fantasy_points\"] = get_next_fpg(RB_data)\n",
    "\n",
    "QB_current = QB_data[QB_data[\"season\"] == 2024]\n",
    "WR_current = WR_data[WR_data[\"season\"] == 2024]\n",
    "TE_current = TE_data[TE_data[\"season\"] == 2024]\n",
    "RB_current = RB_data[RB_data[\"season\"] == 2024]\n",
    "\n",
    "QB_data = QB_data[(QB_data[\"season\"] != 2024) & (~QB_data[\"next_fantasy_points\"].isna())]\n",
    "WR_data = WR_data[(WR_data[\"season\"] != 2024) & (~WR_data[\"next_fantasy_points\"].isna())]\n",
    "TE_data = TE_data[(TE_data[\"season\"] != 2024) & (~TE_data[\"next_fantasy_points\"].isna())]\n",
    "RB_data = RB_data[(RB_data[\"season\"] != 2024) & (~RB_data[\"next_fantasy_points\"].isna())]\n"
   ]
  },
  {
   "cell_type": "code",
   "execution_count": 203,
   "id": "8eaa0a94",
   "metadata": {},
   "outputs": [],
   "source": [
    "def get_replacement_level(df, num_slots):\n",
    "    \"\"\"\n",
    "    Returns the average fantasy points per game of the worst player of the position group that could be starting (num_teams * slots per team)\n",
    "    \"\"\"\n",
    "    df = df.sort_values(by=[\"season\", \"fantasy_points\"])\n",
    "    df[\"rank\"] = df.groupby([\"season\"])[\"fantasy_points\"].rank(ascending=False)\n",
    "    \n",
    "    return df[\"fantasy_points\"][df[\"rank\"] == 10 * num_slots].mean()\n",
    "\n",
    "def get_elite_level(df, elite_percentile=0.1, size=0.1):\n",
    "    \"\"\"\n",
    "    Returns the mean fantasy points for top n% of players\n",
    "    \"\"\"\n",
    "    df = df.sort_values(by=[\"season\", \"fantasy_points\"])\n",
    "    df[\"rank\"] = df.groupby([\"season\"])[\"fantasy_points\"].rank(ascending=False, pct=True)\n",
    "    \n",
    "    return df[\"fantasy_points\"][(df[\"rank\"] <= elite_percentile) & (df[\"rank\"] > elite_percentile - size)].mean()"
   ]
  },
  {
   "cell_type": "code",
   "execution_count": 204,
   "id": "14c890b3",
   "metadata": {},
   "outputs": [],
   "source": [
    "WR_PAR = get_elite_level(WR_data, 0.1) - get_replacement_level(WR_data, 3)\n",
    "RB_PAR = get_elite_level(RB_data, 0.1) - get_replacement_level(RB_data, 2)\n",
    "QB_PAR = get_elite_level(QB_data, 0.1) - get_replacement_level(QB_data, 1)\n",
    "TE_PAR = get_elite_level(TE_data, 0.1) - get_replacement_level(TE_data, 1)"
   ]
  },
  {
   "cell_type": "code",
   "execution_count": 205,
   "id": "cc101dc6",
   "metadata": {},
   "outputs": [
    {
     "name": "stdout",
     "output_type": "stream",
     "text": [
      "WR PAR: 5.0541329518265545, RB PAR: 5.264447538412, QB PAR: 4.607333709488433, TE PAR: 3.145265456253883\n"
     ]
    }
   ],
   "source": [
    "print(f\"WR PAR: {WR_PAR}, RB PAR: {RB_PAR}, QB PAR: {QB_PAR}, TE PAR: {TE_PAR}\")"
   ]
  },
  {
   "cell_type": "code",
   "execution_count": 206,
   "id": "2ff1c7ff",
   "metadata": {},
   "outputs": [],
   "source": [
    "import pandas as pd\n",
    "\n",
    "def get_scarcity_ratios(data, starter_counts):\n",
    "    \"\"\"\n",
    "    Compute number of startable players and scarcity ratio per season per position.\n",
    "\n",
    "    Parameters:\n",
    "    - data: DataFrame with columns ['position', 'season', 'fantasy_points']\n",
    "    - starter_counts: dict, e.g., {'QB': 12, 'RB': 24, 'WR': 24, 'TE': 12}\n",
    "\n",
    "    Returns:\n",
    "    - DataFrame with columns ['position', 'season', 'startable_count', 'total_players', 'scarcity_ratio']\n",
    "    \"\"\"\n",
    "    results = []\n",
    "\n",
    "    grouped = data.groupby(['season'])\n",
    "\n",
    "    for (season), group in grouped:\n",
    "        total_players = len(group)\n",
    "        starter_limit = starter_counts\n",
    "        startable_count = min(starter_limit, total_players)  # in case there are fewer players than the limit\n",
    "        scarcity_ratio = startable_count / total_players if total_players > 0 else None\n",
    "\n",
    "        results.append({\n",
    "            'season': season,\n",
    "            'startable_count': startable_count,\n",
    "            'total_players': total_players,\n",
    "            'scarcity_ratio': scarcity_ratio\n",
    "        })\n",
    "\n",
    "    return scarcity_ratio\n"
   ]
  },
  {
   "cell_type": "code",
   "execution_count": 207,
   "id": "2520bd47",
   "metadata": {},
   "outputs": [
    {
     "name": "stderr",
     "output_type": "stream",
     "text": [
      "/var/folders/7y/fwm3j5vs3p72s234bsqbz8sw0000gp/T/ipykernel_11429/991890443.py:18: FutureWarning: In a future version of pandas, a length 1 tuple will be returned when iterating over a groupby with a grouper equal to a list of length 1. Don't supply a list with a single grouper to avoid this warning.\n",
      "  for (season), group in grouped:\n",
      "/var/folders/7y/fwm3j5vs3p72s234bsqbz8sw0000gp/T/ipykernel_11429/991890443.py:18: FutureWarning: In a future version of pandas, a length 1 tuple will be returned when iterating over a groupby with a grouper equal to a list of length 1. Don't supply a list with a single grouper to avoid this warning.\n",
      "  for (season), group in grouped:\n",
      "/var/folders/7y/fwm3j5vs3p72s234bsqbz8sw0000gp/T/ipykernel_11429/991890443.py:18: FutureWarning: In a future version of pandas, a length 1 tuple will be returned when iterating over a groupby with a grouper equal to a list of length 1. Don't supply a list with a single grouper to avoid this warning.\n",
      "  for (season), group in grouped:\n",
      "/var/folders/7y/fwm3j5vs3p72s234bsqbz8sw0000gp/T/ipykernel_11429/991890443.py:18: FutureWarning: In a future version of pandas, a length 1 tuple will be returned when iterating over a groupby with a grouper equal to a list of length 1. Don't supply a list with a single grouper to avoid this warning.\n",
      "  for (season), group in grouped:\n"
     ]
    }
   ],
   "source": [
    "QB_scarcity = get_scarcity_ratios(QB_data, 10)\n",
    "TE_scarcity = get_scarcity_ratios(TE_data, 10)\n",
    "WR_scarcity = get_scarcity_ratios(WR_data, 30)\n",
    "RB_scarcity = get_scarcity_ratios(RB_data, 20)"
   ]
  },
  {
   "cell_type": "code",
   "execution_count": 208,
   "id": "515e2bbf",
   "metadata": {},
   "outputs": [
    {
     "name": "stdout",
     "output_type": "stream",
     "text": [
      "  position_group       PAR  scarcity_ratio   dropoff  slots  importance\n",
      "0             QB  4.607334        0.263158  2.927625      1    0.760810\n",
      "1             WR  5.054133        0.267857  3.576067      3    0.836216\n",
      "2             RB  5.264448        0.253165  3.685603      2    0.919708\n",
      "3             TE  3.145265        0.149254  3.050619      1    1.000000\n"
     ]
    }
   ],
   "source": [
    "positions = [\"QB\", \"WR\", \"RB\", \"TE\"]\n",
    "par_values = [QB_PAR, WR_PAR, RB_PAR, TE_PAR]\n",
    "dropoff = [get_elite_level(QB_data, 0.1) - get_elite_level(QB_data, 0.2), \n",
    "           get_elite_level(WR_data, 0.1) - get_elite_level(WR_data, 0.2),\n",
    "           get_elite_level(RB_data, 0.1) - get_elite_level(RB_data, 0.2),\n",
    "           get_elite_level(TE_data, 0.1) - get_elite_level(TE_data, 0.2)]\n",
    "scarcity_values = [QB_scarcity, WR_scarcity, RB_scarcity, TE_scarcity]\n",
    "slots = [1, 3, 2, 1]\n",
    "\n",
    "importance_df = pd.DataFrame({\n",
    "    \"position_group\": positions,\n",
    "    \"PAR\": par_values,\n",
    "    \"scarcity_ratio\": scarcity_values,\n",
    "    \"dropoff\" :dropoff,\n",
    "    \"slots\":slots\n",
    "})\n",
    "importance_df[\"importance\"] = 0.75 * (importance_df[\"PAR\"] / importance_df[\"scarcity_ratio\"]) + 0.25 * (importance_df[\"dropoff\"] / importance_df[\"scarcity_ratio\"])\n",
    "importance_df[\"importance\"] = importance_df[\"importance\"] / importance_df[\"importance\"].max()\n",
    "print(importance_df)\n"
   ]
  },
  {
   "cell_type": "code",
   "execution_count": 209,
   "id": "3b11ba6a",
   "metadata": {},
   "outputs": [],
   "source": [
    "def generate_projection_model(data, raw_model):\n",
    "    X = data[passing_cols + weapon_cols +[\"fantasy_points\"]]\n",
    "    y = data[\"next_fantasy_points\"]\n",
    "    raw_model.fit(X, y)\n",
    "    return raw_model"
   ]
  },
  {
   "cell_type": "code",
   "execution_count": 216,
   "id": "4dabcbaf",
   "metadata": {},
   "outputs": [
    {
     "ename": "ValueError",
     "evalue": "could not convert string to float: 'Danny Amendola'",
     "output_type": "error",
     "traceback": [
      "\u001b[31m---------------------------------------------------------------------------\u001b[39m",
      "\u001b[31mValueError\u001b[39m                                Traceback (most recent call last)",
      "\u001b[32m/var/folders/7y/fwm3j5vs3p72s234bsqbz8sw0000gp/T/ipykernel_11429/3956286958.py\u001b[39m in \u001b[36m?\u001b[39m\u001b[34m()\u001b[39m\n\u001b[32m      1\u001b[39m \u001b[38;5;28;01mfrom\u001b[39;00m sklearn.ensemble \u001b[38;5;28;01mimport\u001b[39;00m GradientBoostingRegressor\n\u001b[32m      2\u001b[39m \n\u001b[32m      3\u001b[39m proj_base = GradientBoostingRegressor()\n\u001b[32m      4\u001b[39m \n\u001b[32m----> \u001b[39m\u001b[32m5\u001b[39m WR_model = generate_projection_model(WR_data, proj_base)\n\u001b[32m      6\u001b[39m WR_current[\u001b[33m\"next_fantasy_points\"\u001b[39m] = WR_model.predict(WR_current[passing_cols + weapon_cols + [\u001b[33m\"fantasy_points\"\u001b[39m]])\n\u001b[32m      7\u001b[39m \n\u001b[32m      8\u001b[39m RB_model = generate_projection_model(RB_data, proj_base)\n",
      "\u001b[32m/var/folders/7y/fwm3j5vs3p72s234bsqbz8sw0000gp/T/ipykernel_11429/3727845660.py\u001b[39m in \u001b[36m?\u001b[39m\u001b[34m(data, raw_model)\u001b[39m\n\u001b[32m      1\u001b[39m \u001b[38;5;28;01mdef\u001b[39;00m generate_projection_model(data, raw_model):\n\u001b[32m      2\u001b[39m     X = data[passing_cols + weapon_cols +[\u001b[33m\"fantasy_points\"\u001b[39m]]\n\u001b[32m      3\u001b[39m     y = data[\u001b[33m\"next_fantasy_points\"\u001b[39m]\n\u001b[32m----> \u001b[39m\u001b[32m4\u001b[39m     raw_model.fit(X, y)\n\u001b[32m      5\u001b[39m     \u001b[38;5;28;01mreturn\u001b[39;00m raw_model\n",
      "\u001b[32m~/Library/Python/3.12/lib/python/site-packages/sklearn/base.py\u001b[39m in \u001b[36m?\u001b[39m\u001b[34m(estimator, *args, **kwargs)\u001b[39m\n\u001b[32m   1385\u001b[39m                 skip_parameter_validation=(\n\u001b[32m   1386\u001b[39m                     prefer_skip_nested_validation \u001b[38;5;28;01mor\u001b[39;00m global_skip_validation\n\u001b[32m   1387\u001b[39m                 )\n\u001b[32m   1388\u001b[39m             ):\n\u001b[32m-> \u001b[39m\u001b[32m1389\u001b[39m                 \u001b[38;5;28;01mreturn\u001b[39;00m fit_method(estimator, *args, **kwargs)\n",
      "\u001b[32m~/Library/Python/3.12/lib/python/site-packages/sklearn/ensemble/_gb.py\u001b[39m in \u001b[36m?\u001b[39m\u001b[34m(self, X, y, sample_weight, monitor)\u001b[39m\n\u001b[32m    654\u001b[39m         \u001b[38;5;66;03m# Check input\u001b[39;00m\n\u001b[32m    655\u001b[39m         \u001b[38;5;66;03m# Since check_array converts both X and y to the same dtype, but the\u001b[39;00m\n\u001b[32m    656\u001b[39m         \u001b[38;5;66;03m# trees use different types for X and y, checking them separately.\u001b[39;00m\n\u001b[32m    657\u001b[39m \n\u001b[32m--> \u001b[39m\u001b[32m658\u001b[39m         X, y = validate_data(\n\u001b[32m    659\u001b[39m             self,\n\u001b[32m    660\u001b[39m             X,\n\u001b[32m    661\u001b[39m             y,\n",
      "\u001b[32m~/Library/Python/3.12/lib/python/site-packages/sklearn/utils/validation.py\u001b[39m in \u001b[36m?\u001b[39m\u001b[34m(_estimator, X, y, reset, validate_separately, skip_check_array, **check_params)\u001b[39m\n\u001b[32m   2957\u001b[39m             \u001b[38;5;28;01mif\u001b[39;00m \u001b[33m\"estimator\"\u001b[39m \u001b[38;5;28;01mnot\u001b[39;00m \u001b[38;5;28;01min\u001b[39;00m check_y_params:\n\u001b[32m   2958\u001b[39m                 check_y_params = {**default_check_params, **check_y_params}\n\u001b[32m   2959\u001b[39m             y = check_array(y, input_name=\u001b[33m\"y\"\u001b[39m, **check_y_params)\n\u001b[32m   2960\u001b[39m         \u001b[38;5;28;01melse\u001b[39;00m:\n\u001b[32m-> \u001b[39m\u001b[32m2961\u001b[39m             X, y = check_X_y(X, y, **check_params)\n\u001b[32m   2962\u001b[39m         out = X, y\n\u001b[32m   2963\u001b[39m \n\u001b[32m   2964\u001b[39m     \u001b[38;5;28;01mif\u001b[39;00m \u001b[38;5;28;01mnot\u001b[39;00m no_val_X \u001b[38;5;28;01mand\u001b[39;00m check_params.get(\u001b[33m\"ensure_2d\"\u001b[39m, \u001b[38;5;28;01mTrue\u001b[39;00m):\n",
      "\u001b[32m~/Library/Python/3.12/lib/python/site-packages/sklearn/utils/validation.py\u001b[39m in \u001b[36m?\u001b[39m\u001b[34m(X, y, accept_sparse, accept_large_sparse, dtype, order, copy, force_writeable, force_all_finite, ensure_all_finite, ensure_2d, allow_nd, multi_output, ensure_min_samples, ensure_min_features, y_numeric, estimator)\u001b[39m\n\u001b[32m   1366\u001b[39m         )\n\u001b[32m   1367\u001b[39m \n\u001b[32m   1368\u001b[39m     ensure_all_finite = _deprecate_force_all_finite(force_all_finite, ensure_all_finite)\n\u001b[32m   1369\u001b[39m \n\u001b[32m-> \u001b[39m\u001b[32m1370\u001b[39m     X = check_array(\n\u001b[32m   1371\u001b[39m         X,\n\u001b[32m   1372\u001b[39m         accept_sparse=accept_sparse,\n\u001b[32m   1373\u001b[39m         accept_large_sparse=accept_large_sparse,\n",
      "\u001b[32m~/Library/Python/3.12/lib/python/site-packages/sklearn/utils/validation.py\u001b[39m in \u001b[36m?\u001b[39m\u001b[34m(array, accept_sparse, accept_large_sparse, dtype, order, copy, force_writeable, force_all_finite, ensure_all_finite, ensure_non_negative, ensure_2d, allow_nd, ensure_min_samples, ensure_min_features, estimator, input_name)\u001b[39m\n\u001b[32m   1052\u001b[39m                         )\n\u001b[32m   1053\u001b[39m                     array = xp.astype(array, dtype, copy=\u001b[38;5;28;01mFalse\u001b[39;00m)\n\u001b[32m   1054\u001b[39m                 \u001b[38;5;28;01melse\u001b[39;00m:\n\u001b[32m   1055\u001b[39m                     array = _asarray_with_order(array, order=order, dtype=dtype, xp=xp)\n\u001b[32m-> \u001b[39m\u001b[32m1056\u001b[39m             \u001b[38;5;28;01mexcept\u001b[39;00m ComplexWarning \u001b[38;5;28;01mas\u001b[39;00m complex_warning:\n\u001b[32m   1057\u001b[39m                 raise ValueError(\n\u001b[32m   1058\u001b[39m                     \u001b[33m\"Complex data not supported\\n{}\\n\"\u001b[39m.format(array)\n\u001b[32m   1059\u001b[39m                 ) \u001b[38;5;28;01mfrom\u001b[39;00m complex_warning\n",
      "\u001b[32m~/Library/Python/3.12/lib/python/site-packages/sklearn/utils/_array_api.py\u001b[39m in \u001b[36m?\u001b[39m\u001b[34m(array, dtype, order, copy, xp, device)\u001b[39m\n\u001b[32m    835\u001b[39m         \u001b[38;5;66;03m# Use NumPy API to support order\u001b[39;00m\n\u001b[32m    836\u001b[39m         \u001b[38;5;28;01mif\u001b[39;00m copy \u001b[38;5;28;01mis\u001b[39;00m \u001b[38;5;28;01mTrue\u001b[39;00m:\n\u001b[32m    837\u001b[39m             array = numpy.array(array, order=order, dtype=dtype)\n\u001b[32m    838\u001b[39m         \u001b[38;5;28;01melse\u001b[39;00m:\n\u001b[32m--> \u001b[39m\u001b[32m839\u001b[39m             array = numpy.asarray(array, order=order, dtype=dtype)\n\u001b[32m    840\u001b[39m \n\u001b[32m    841\u001b[39m         \u001b[38;5;66;03m# At this point array is a NumPy ndarray. We convert it to an array\u001b[39;00m\n\u001b[32m    842\u001b[39m         \u001b[38;5;66;03m# container that is consistent with the input's namespace.\u001b[39;00m\n",
      "\u001b[32m~/Desktop/Project/KingKobra7899.github.io/.venv/lib/python3.12/site-packages/pandas/core/generic.py\u001b[39m in \u001b[36m?\u001b[39m\u001b[34m(self, dtype)\u001b[39m\n\u001b[32m   2069\u001b[39m     \u001b[38;5;28;01mdef\u001b[39;00m __array__(self, dtype: npt.DTypeLike | \u001b[38;5;28;01mNone\u001b[39;00m = \u001b[38;5;28;01mNone\u001b[39;00m) -> np.ndarray:\n\u001b[32m-> \u001b[39m\u001b[32m2070\u001b[39m         \u001b[38;5;28;01mreturn\u001b[39;00m np.asarray(self._values, dtype=dtype)\n",
      "\u001b[31mValueError\u001b[39m: could not convert string to float: 'Danny Amendola'"
     ]
    }
   ],
   "source": [
    "from sklearn.ensemble import GradientBoostingRegressor\n",
    "\n",
    "proj_base = GradientBoostingRegressor()\n",
    "\n",
    "WR_model = generate_projection_model(WR_data, proj_base)\n",
    "WR_current[\"next_fantasy_points\"] = WR_model.predict(WR_current[passing_cols + weapon_cols + [\"fantasy_points\"]])\n",
    "\n",
    "RB_model = generate_projection_model(RB_data, proj_base)\n",
    "RB_current[\"next_fantasy_points\"] = RB_model.predict(RB_current[passing_cols + weapon_cols + [\"fantasy_points\"]])\n",
    "\n",
    "QB_model = generate_projection_model(QB_data, proj_base)\n",
    "QB_current[\"next_fantasy_points\"] = QB_model.predict(QB_current[passing_cols + weapon_cols + [\"fantasy_points\"]])\n",
    "\n",
    "TE_model = generate_projection_model(TE_data, proj_base)\n",
    "TE_current[\"next_fantasy_points\"] = TE_model.predict(TE_current[passing_cols + weapon_cols + [\"fantasy_points\"]])"
   ]
  },
  {
   "cell_type": "code",
   "execution_count": 211,
   "id": "72cb2009",
   "metadata": {},
   "outputs": [],
   "source": [
    "import plotly.express as px\n",
    "import pandas as pd\n",
    "\n",
    "def get_feature_importance(model):\n",
    "    df = pd.DataFrame({\n",
    "        'feature': model.feature_names_in_,\n",
    "        'importance': model.feature_importances_\n",
    "    })\n",
    "\n",
    "    # Sort by importance\n",
    "    df = df.sort_values('importance', ascending=True)\n",
    "\n",
    "    # Create horizontal bar plot\n",
    "    fig = px.bar(df, \n",
    "                x='importance', \n",
    "                y='feature',\n",
    "                orientation='h',\n",
    "                title='Gradient Boosting Feature Importance',\n",
    "                color='importance',\n",
    "                color_continuous_scale='viridis')\n",
    "\n",
    "    fig.update_layout(\n",
    "        xaxis_title=\"Feature Importance\",\n",
    "        yaxis_title=\"Features\",\n",
    "        height=max(400, len(df) * 25),\n",
    "        showlegend=False\n",
    "    )\n",
    "\n",
    "    fig.show()\n"
   ]
  },
  {
   "cell_type": "code",
   "execution_count": 212,
   "id": "5aafac3c",
   "metadata": {},
   "outputs": [],
   "source": [
    "QB_current = pd.merge(QB_current, importance_df)[[\"player_display_name\",\"position_group\", \"next_fantasy_points\", \"importance\"]]\n",
    "RB_current = pd.merge(RB_current, importance_df)[[\"player_display_name\", \"position_group\",\"next_fantasy_points\", \"importance\"]]\n",
    "WR_current = pd.merge(WR_current, importance_df)[[\"player_display_name\", \"position_group\",\"next_fantasy_points\", \"importance\"]]\n",
    "TE_current = pd.merge(TE_current, importance_df)[[\"player_display_name\", \"position_group\",\"next_fantasy_points\", \"importance\"]]"
   ]
  },
  {
   "cell_type": "code",
   "execution_count": 213,
   "id": "59b9546f",
   "metadata": {},
   "outputs": [],
   "source": [
    "big_board = pd.concat([QB_current, RB_current, WR_current, TE_current])"
   ]
  },
  {
   "cell_type": "code",
   "execution_count": 214,
   "id": "3ceca09c",
   "metadata": {},
   "outputs": [],
   "source": [
    "big_board[\"draft_value\"] = big_board[\"next_fantasy_points\"]  * big_board[\"importance\"]"
   ]
  },
  {
   "cell_type": "code",
   "execution_count": 215,
   "id": "2094d49b",
   "metadata": {},
   "outputs": [
    {
     "data": {
      "application/vnd.microsoft.datawrangler.viewer.v0+json": {
       "columns": [
        {
         "name": "index",
         "rawType": "int64",
         "type": "integer"
        },
        {
         "name": "player_display_name",
         "rawType": "category",
         "type": "unknown"
        },
        {
         "name": "position_group",
         "rawType": "object",
         "type": "string"
        },
        {
         "name": "next_fantasy_points",
         "rawType": "float64",
         "type": "float"
        },
        {
         "name": "importance",
         "rawType": "float64",
         "type": "float"
        },
        {
         "name": "draft_value",
         "rawType": "float64",
         "type": "float"
        }
       ],
       "ref": "37af41a4-8741-4280-83de-ccff7b675ebf",
       "rows": [
        [
         "0",
         "Aaron Rodgers",
         "QB",
         "13.487788813639106",
         "0.7608098814273307",
         "10.261643008021647"
        ],
        [
         "1",
         "Joe Flacco",
         "QB",
         "10.885791625531395",
         "0.7608098814273307",
         "8.28201783586317"
        ],
        [
         "2",
         "Matthew Stafford",
         "QB",
         "12.163614312710921",
         "0.7608098814273307",
         "9.25419796298138"
        ],
        [
         "3",
         "Andy Dalton",
         "QB",
         "3.073343789210071",
         "0.7608098814273307",
         "2.3382303238543374"
        ],
        [
         "4",
         "Russell Wilson",
         "QB",
         "10.71805813819023",
         "0.7608098814273307",
         "8.154404541247747"
        ],
        [
         "5",
         "Kirk Cousins",
         "QB",
         "12.755869763427174",
         "0.7608098814273307",
         "9.704791762215502"
        ],
        [
         "6",
         "Geno Smith",
         "QB",
         "13.300749730078122",
         "0.7608098814273307",
         "10.119341825035338"
        ],
        [
         "7",
         "Derek Carr",
         "QB",
         "8.57763917244294",
         "0.7608098814273307",
         "6.52595264171274"
        ],
        [
         "8",
         "Jameis Winston",
         "QB",
         "5.618993433999523",
         "0.7608098814273307",
         "4.274985728262127"
        ],
        [
         "9",
         "Dak Prescott",
         "QB",
         "11.711148153590306",
         "0.7608098814273307",
         "8.909957238110945"
        ],
        [
         "10",
         "Jared Goff",
         "QB",
         "14.259470119087224",
         "0.7608098814273307",
         "10.848745770519317"
        ],
        [
         "11",
         "Jacoby Brissett",
         "QB",
         "8.50821264649676",
         "0.7608098814273307",
         "6.473132254739716"
        ],
        [
         "12",
         "Deshaun Watson",
         "QB",
         "10.80882590412425",
         "0.7608098814273307",
         "8.223461554485432"
        ],
        [
         "13",
         "Cooper Rush",
         "QB",
         "6.948356339131895",
         "0.7608098814273307",
         "5.286378162489779"
        ],
        [
         "14",
         "Mitchell Trubisky",
         "QB",
         "11.36352677364406",
         "0.7608098814273307",
         "8.645483457252435"
        ],
        [
         "15",
         "Patrick Mahomes",
         "QB",
         "14.83747981038976",
         "0.7608098814273307",
         "11.288501255223048"
        ],
        [
         "16",
         "Mason Rudolph",
         "QB",
         "8.251035767281431",
         "0.7608098814273307",
         "6.277469543758051"
        ],
        [
         "17",
         "Lamar Jackson",
         "QB",
         "19.872010794027968",
         "0.7608098814273307",
         "15.118822175927056"
        ],
        [
         "18",
         "Baker Mayfield",
         "QB",
         "15.963197286700645",
         "0.7608098814273307",
         "12.144958234895805"
        ],
        [
         "19",
         "Josh Allen",
         "QB",
         "18.21083540121117",
         "0.7608098814273307",
         "13.854983522288109"
        ],
        [
         "20",
         "Sam Darnold",
         "QB",
         "13.631622394648867",
         "0.7608098814273307",
         "10.37107301773495"
        ],
        [
         "21",
         "Kyler Murray",
         "QB",
         "15.786685043318574",
         "0.7608098814273307",
         "12.01066597593782"
        ],
        [
         "22",
         "Gardner Minshew",
         "QB",
         "11.246252934651254",
         "0.7608098814273307",
         "8.556260361713791"
        ],
        [
         "23",
         "Drew Lock",
         "QB",
         "4.245336538114635",
         "0.7608098814273307",
         "3.22989398818211"
        ],
        [
         "24",
         "Daniel Jones",
         "QB",
         "11.818849866864445",
         "0.7608098814273307",
         "8.991897765816562"
        ],
        [
         "25",
         "Tyler Huntley",
         "QB",
         "6.95143125618231",
         "0.7608098814273307",
         "5.288717589766304"
        ],
        [
         "26",
         "Tua Tagovailoa",
         "QB",
         "14.48682046925242",
         "0.7608098814273307",
         "11.02171616347096"
        ],
        [
         "27",
         "Jordan Love",
         "QB",
         "7.797108326848836",
         "0.7608098814273307",
         "5.932117061625916"
        ],
        [
         "28",
         "Justin Herbert",
         "QB",
         "10.125890618396744",
         "0.7608098814273307",
         "7.703877640728547"
        ],
        [
         "29",
         "Jalen Hurts",
         "QB",
         "15.309913120775192",
         "0.7608098814273307",
         "11.64793318607971"
        ],
        [
         "30",
         "Joe Burrow",
         "QB",
         "14.551800979428132",
         "0.7608098814273307",
         "11.071153977712832"
        ],
        [
         "31",
         "Justin Fields",
         "QB",
         "10.150395404651388",
         "0.7608098814273307",
         "7.722521124253345"
        ],
        [
         "32",
         "Trevor Lawrence",
         "QB",
         "9.04493858068467",
         "0.7608098814273307",
         "6.881478649088193"
        ],
        [
         "33",
         "Mac Jones",
         "QB",
         "10.131091535660687",
         "0.7608098814273307",
         "7.707834549975441"
        ],
        [
         "34",
         "Brock Purdy",
         "QB",
         "13.536008640023466",
         "0.7608098814273307",
         "10.298329128415578"
        ],
        [
         "35",
         "Kenny Pickett",
         "QB",
         "9.786052750194907",
         "0.7608098814273307",
         "7.445325632517391"
        ],
        [
         "36",
         "Desmond Ridder",
         "QB",
         "9.339866743855964",
         "0.7608098814273307",
         "7.105862909940126"
        ],
        [
         "37",
         "Malik Willis",
         "QB",
         "7.746710963879432",
         "0.7608098814273307",
         "5.893774249880914"
        ],
        [
         "38",
         "Aidan O'Connell",
         "QB",
         "8.782530847256897",
         "0.7608098814273307",
         "6.681836252533395"
        ],
        [
         "39",
         "Clayton Tune",
         "QB",
         "9.04778824867603",
         "0.7608098814273307",
         "6.883646704654807"
        ],
        [
         "40",
         "Dorian Thompson-Robinson",
         "QB",
         "6.167190610110765",
         "0.7608098814273307",
         "4.692059556818119"
        ],
        [
         "41",
         "Jake Haener",
         "QB",
         "3.6785844363829105",
         "0.7608098814273307",
         "2.7987033888649067"
        ],
        [
         "42",
         "Bryce Young",
         "QB",
         "6.71318169931027",
         "0.7608098814273307",
         "5.1074549726523735"
        ],
        [
         "43",
         "Will Levis",
         "QB",
         "9.762225859680035",
         "0.7608098814273307",
         "7.427197898769989"
        ],
        [
         "44",
         "C.J. Stroud",
         "QB",
         "8.12682994738752",
         "0.7608098814273307",
         "6.18297252865198"
        ],
        [
         "45",
         "Anthony Richardson",
         "QB",
         "8.716922777102239",
         "0.7608098814273307",
         "6.631920984458353"
        ],
        [
         "46",
         "Spencer Rattler",
         "QB",
         "11.176420330184785",
         "0.7608098814273307",
         "8.503131026189894"
        ],
        [
         "47",
         "Bo Nix",
         "QB",
         "16.3930651775391",
         "0.7608098814273307",
         "12.472005973954028"
        ],
        [
         "48",
         "Drake Maye",
         "QB",
         "9.389733709647329",
         "0.7608098814273307",
         "7.1438021902709945"
        ],
        [
         "49",
         "Jayden Daniels",
         "QB",
         "14.684448878293335",
         "0.7608098814273307",
         "11.172073809920052"
        ]
       ],
       "shape": {
        "columns": 5,
        "rows": 406
       }
      },
      "text/html": [
       "<div>\n",
       "<style scoped>\n",
       "    .dataframe tbody tr th:only-of-type {\n",
       "        vertical-align: middle;\n",
       "    }\n",
       "\n",
       "    .dataframe tbody tr th {\n",
       "        vertical-align: top;\n",
       "    }\n",
       "\n",
       "    .dataframe thead th {\n",
       "        text-align: right;\n",
       "    }\n",
       "</style>\n",
       "<table border=\"1\" class=\"dataframe\">\n",
       "  <thead>\n",
       "    <tr style=\"text-align: right;\">\n",
       "      <th></th>\n",
       "      <th>player_display_name</th>\n",
       "      <th>position_group</th>\n",
       "      <th>next_fantasy_points</th>\n",
       "      <th>importance</th>\n",
       "      <th>draft_value</th>\n",
       "    </tr>\n",
       "  </thead>\n",
       "  <tbody>\n",
       "    <tr>\n",
       "      <th>0</th>\n",
       "      <td>Aaron Rodgers</td>\n",
       "      <td>QB</td>\n",
       "      <td>13.487789</td>\n",
       "      <td>0.76081</td>\n",
       "      <td>10.261643</td>\n",
       "    </tr>\n",
       "    <tr>\n",
       "      <th>1</th>\n",
       "      <td>Joe Flacco</td>\n",
       "      <td>QB</td>\n",
       "      <td>10.885792</td>\n",
       "      <td>0.76081</td>\n",
       "      <td>8.282018</td>\n",
       "    </tr>\n",
       "    <tr>\n",
       "      <th>2</th>\n",
       "      <td>Matthew Stafford</td>\n",
       "      <td>QB</td>\n",
       "      <td>12.163614</td>\n",
       "      <td>0.76081</td>\n",
       "      <td>9.254198</td>\n",
       "    </tr>\n",
       "    <tr>\n",
       "      <th>3</th>\n",
       "      <td>Andy Dalton</td>\n",
       "      <td>QB</td>\n",
       "      <td>3.073344</td>\n",
       "      <td>0.76081</td>\n",
       "      <td>2.338230</td>\n",
       "    </tr>\n",
       "    <tr>\n",
       "      <th>4</th>\n",
       "      <td>Russell Wilson</td>\n",
       "      <td>QB</td>\n",
       "      <td>10.718058</td>\n",
       "      <td>0.76081</td>\n",
       "      <td>8.154405</td>\n",
       "    </tr>\n",
       "    <tr>\n",
       "      <th>...</th>\n",
       "      <td>...</td>\n",
       "      <td>...</td>\n",
       "      <td>...</td>\n",
       "      <td>...</td>\n",
       "      <td>...</td>\n",
       "    </tr>\n",
       "    <tr>\n",
       "      <th>82</th>\n",
       "      <td>Brevyn Spann-Ford</td>\n",
       "      <td>TE</td>\n",
       "      <td>3.683140</td>\n",
       "      <td>1.00000</td>\n",
       "      <td>3.683140</td>\n",
       "    </tr>\n",
       "    <tr>\n",
       "      <th>83</th>\n",
       "      <td>Tip Reiman</td>\n",
       "      <td>TE</td>\n",
       "      <td>2.925455</td>\n",
       "      <td>1.00000</td>\n",
       "      <td>2.925455</td>\n",
       "    </tr>\n",
       "    <tr>\n",
       "      <th>84</th>\n",
       "      <td>A.J. Barner</td>\n",
       "      <td>TE</td>\n",
       "      <td>4.439062</td>\n",
       "      <td>1.00000</td>\n",
       "      <td>4.439062</td>\n",
       "    </tr>\n",
       "    <tr>\n",
       "      <th>85</th>\n",
       "      <td>Erick All</td>\n",
       "      <td>TE</td>\n",
       "      <td>4.082135</td>\n",
       "      <td>1.00000</td>\n",
       "      <td>4.082135</td>\n",
       "    </tr>\n",
       "    <tr>\n",
       "      <th>86</th>\n",
       "      <td>Theo Johnson</td>\n",
       "      <td>TE</td>\n",
       "      <td>5.212784</td>\n",
       "      <td>1.00000</td>\n",
       "      <td>5.212784</td>\n",
       "    </tr>\n",
       "  </tbody>\n",
       "</table>\n",
       "<p>406 rows × 5 columns</p>\n",
       "</div>"
      ],
      "text/plain": [
       "   player_display_name position_group  next_fantasy_points  importance  \\\n",
       "0        Aaron Rodgers             QB            13.487789     0.76081   \n",
       "1           Joe Flacco             QB            10.885792     0.76081   \n",
       "2     Matthew Stafford             QB            12.163614     0.76081   \n",
       "3          Andy Dalton             QB             3.073344     0.76081   \n",
       "4       Russell Wilson             QB            10.718058     0.76081   \n",
       "..                 ...            ...                  ...         ...   \n",
       "82   Brevyn Spann-Ford             TE             3.683140     1.00000   \n",
       "83          Tip Reiman             TE             2.925455     1.00000   \n",
       "84         A.J. Barner             TE             4.439062     1.00000   \n",
       "85           Erick All             TE             4.082135     1.00000   \n",
       "86        Theo Johnson             TE             5.212784     1.00000   \n",
       "\n",
       "    draft_value  \n",
       "0     10.261643  \n",
       "1      8.282018  \n",
       "2      9.254198  \n",
       "3      2.338230  \n",
       "4      8.154405  \n",
       "..          ...  \n",
       "82     3.683140  \n",
       "83     2.925455  \n",
       "84     4.439062  \n",
       "85     4.082135  \n",
       "86     5.212784  \n",
       "\n",
       "[406 rows x 5 columns]"
      ]
     },
     "execution_count": 215,
     "metadata": {},
     "output_type": "execute_result"
    }
   ],
   "source": [
    "big_board"
   ]
  }
 ],
 "metadata": {
  "kernelspec": {
   "display_name": ".venv",
   "language": "python",
   "name": "python3"
  },
  "language_info": {
   "codemirror_mode": {
    "name": "ipython",
    "version": 3
   },
   "file_extension": ".py",
   "mimetype": "text/x-python",
   "name": "python",
   "nbconvert_exporter": "python",
   "pygments_lexer": "ipython3",
   "version": "3.12.8"
  }
 },
 "nbformat": 4,
 "nbformat_minor": 5
}
