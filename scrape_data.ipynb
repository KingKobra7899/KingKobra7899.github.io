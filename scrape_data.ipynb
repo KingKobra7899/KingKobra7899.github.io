{
 "cells": [
  {
   "cell_type": "code",
   "execution_count": 269,
   "id": "f8cfcb0b",
   "metadata": {},
   "outputs": [],
   "source": [
    "import pandas as pd\n",
    "import matplotlib.pyplot as plt\n",
    "import nfl_data_py as nfl"
   ]
  },
  {
   "cell_type": "code",
   "execution_count": 270,
   "id": "db442051",
   "metadata": {},
   "outputs": [
    {
     "name": "stdout",
     "output_type": "stream",
     "text": [
      "Downcasting floats.\n"
     ]
    }
   ],
   "source": [
    "data = nfl.import_weekly_data(range(2020, 2025))"
   ]
  },
  {
   "cell_type": "code",
   "execution_count": 271,
   "id": "b6bc8189",
   "metadata": {},
   "outputs": [],
   "source": [
    "data = data[data[\"season_type\"] == \"REG\"]\n",
    "data[\"player_display_name\"] = pd.Categorical(data[\"player_display_name\"])\n",
    "group_dfs = {group: group_df for group, group_df in data.groupby('position_group')}"
   ]
  },
  {
   "cell_type": "code",
   "execution_count": 272,
   "id": "9b10ff61",
   "metadata": {},
   "outputs": [],
   "source": [
    "all_cols = [\"player_id\", \"player_display_name\",\"position_group\", \"recent_team\", \"season\", \"week\"]\n",
    "weapon_cols = [\"carries\", \"rushing_yards\",\"rushing_tds\",\"rushing_fumbles_lost\",\"receptions\",\"receiving_yards\",\"receiving_tds\", \"receiving_yards_after_catch\", \"receiving_fumbles_lost\", \"receiving_epa\", \"wopr\",\"racr\",\"rushing_epa\"]\n",
    "passing_cols = [\"completions\", \"attempts\",\"passing_yards\",\"passing_tds\",\"interceptions\",\"sacks\",\"sack_fumbles_lost\", \"passing_epa\", \"pacr\", \"dakota\"]\n",
    "QB_data = group_dfs[\"QB\"][all_cols + passing_cols + weapon_cols].reset_index().fillna(0)\n",
    "WR_data = group_dfs[\"WR\"][all_cols + passing_cols + weapon_cols].reset_index().fillna(0)\n",
    "TE_data = group_dfs[\"TE\"][all_cols + passing_cols + weapon_cols].reset_index().fillna(0)\n",
    "RB_data = group_dfs[\"RB\"][all_cols + passing_cols + weapon_cols].reset_index().fillna(0)\n"
   ]
  },
  {
   "cell_type": "code",
   "execution_count": 273,
   "id": "5b8bb296",
   "metadata": {},
   "outputs": [],
   "source": [
    "import pandas as pd\n",
    "\n",
    "def calculate_fantasy_points(df: pd.DataFrame) -> pd.Series:\n",
    "    \"\"\"\n",
    "    Calculate fantasy points for offensive players using Old School settings.\n",
    "    \"\"\"\n",
    "\n",
    "    # Initialize to 0\n",
    "    fantasy_points = pd.Series(0, index=df.index, dtype=float)\n",
    "\n",
    "    # Rushing\n",
    "    if \"rushing_yards\" in df:\n",
    "        fantasy_points += df[\"rushing_yards\"] / 10\n",
    "        fantasy_points += (df[\"rushing_yards\"] >= 100).astype(int)\n",
    "        fantasy_points += (df[\"rushing_yards\"] >= 200).astype(int)\n",
    "    if \"rushing_tds\" in df:\n",
    "        fantasy_points += df[\"rushing_tds\"] * 6\n",
    "    if \"rushing_fumbles_lost\" in df:\n",
    "        fantasy_points += df[\"rushing_fumbles_lost\"] * -2\n",
    "\n",
    "    # Receiving\n",
    "    if \"receptions\" in df:\n",
    "        fantasy_points += df[\"receptions\"] * 0.5\n",
    "    if \"receiving_yards\" in df:\n",
    "        fantasy_points += df[\"receiving_yards\"] / 10\n",
    "        fantasy_points += (df[\"receiving_yards\"] >= 100).astype(int)\n",
    "        fantasy_points += (df[\"receiving_yards\"] >= 200).astype(int)\n",
    "    if \"receiving_tds\" in df:\n",
    "        fantasy_points += df[\"receiving_tds\"] * 6\n",
    "    if \"receiving_fumbles_lost\" in df:\n",
    "        fantasy_points += df[\"receiving_fumbles_lost\"] * -2\n",
    "\n",
    "    # Passing (for QBs)\n",
    "    if \"passing_yards\" in df:\n",
    "        fantasy_points += df[\"passing_yards\"] / 25\n",
    "        fantasy_points += (df[\"passing_yards\"] >= 400).astype(int)\n",
    "        fantasy_points += (df[\"passing_yards\"] >= 500).astype(int)\n",
    "    if \"passing_tds\" in df:\n",
    "        fantasy_points += df[\"passing_tds\"] * 4\n",
    "    if \"interceptions\" in df:\n",
    "        fantasy_points += df[\"interceptions\"] * -2\n",
    "    if \"sacks\" in df:\n",
    "        fantasy_points += df[\"sacks\"] * -1\n",
    "    if \"sack_fumbles_lost\" in df:\n",
    "        fantasy_points += df[\"sack_fumbles_lost\"] * -2\n",
    "\n",
    "    return fantasy_points\n"
   ]
  },
  {
   "cell_type": "code",
   "execution_count": 274,
   "id": "429c83ed",
   "metadata": {},
   "outputs": [],
   "source": [
    "QB_data[\"fantasy_points\"] = calculate_fantasy_points(QB_data)\n",
    "WR_data[\"fantasy_points\"] = calculate_fantasy_points(WR_data)\n",
    "TE_data[\"fantasy_points\"] = calculate_fantasy_points(TE_data)\n",
    "RB_data[\"fantasy_points\"] = calculate_fantasy_points(RB_data)"
   ]
  },
  {
   "cell_type": "code",
   "execution_count": 275,
   "id": "1e88644b",
   "metadata": {},
   "outputs": [],
   "source": [
    "def group_data(data):\n",
    "    # Group by the specified columns and calculate means\n",
    "    grouped = data.drop(columns=[\"index\", \"week\"]).groupby([\"player_id\", \"player_display_name\", \"position_group\", \"season\"]).agg(\"mean\").reset_index()\n",
    "    \n",
    "    # Count observations per group to filter out groups with <5 observations\n",
    "    group_counts = data.groupby([\"player_id\", \"player_display_name\", \"position_group\", \"season\"]).size().reset_index(name='count')\n",
    "    \n",
    "    # Filter to keep only groups with 5 or more observations\n",
    "    valid_groups = group_counts[group_counts['count'] >= 5]\n",
    "    \n",
    "    # Merge to keep only the valid groups in the final result\n",
    "    result = grouped.merge(valid_groups[[\"player_id\", \"player_display_name\", \"position_group\", \"season\"]], \n",
    "                          on=[\"player_id\", \"player_display_name\", \"position_group\", \"season\"])\n",
    "    \n",
    "    return result"
   ]
  },
  {
   "cell_type": "code",
   "execution_count": 276,
   "id": "e085deb7",
   "metadata": {},
   "outputs": [],
   "source": [
    "def get_next_fpg(data):\n",
    "    data = data.sort_values(by=[\"player_id\", \"player_display_name\", \"season\"])\n",
    "    return data.groupby([\"player_id\", \"player_display_name\"])[\"fantasy_points\"].shift(-1)\n"
   ]
  },
  {
   "cell_type": "code",
   "execution_count": 277,
   "id": "1ad3aec0",
   "metadata": {},
   "outputs": [
    {
     "name": "stderr",
     "output_type": "stream",
     "text": [
      "/var/folders/7y/fwm3j5vs3p72s234bsqbz8sw0000gp/T/ipykernel_11429/1123169703.py:3: FutureWarning: The default value of numeric_only in DataFrameGroupBy.mean is deprecated. In a future version, numeric_only will default to False. Either specify numeric_only or select only columns which should be valid for the function.\n",
      "  grouped = data.drop(columns=[\"index\", \"week\"]).groupby([\"player_id\", \"player_display_name\", \"position_group\", \"season\"]).agg(\"mean\").reset_index()\n",
      "/var/folders/7y/fwm3j5vs3p72s234bsqbz8sw0000gp/T/ipykernel_11429/1123169703.py:3: FutureWarning: The default value of numeric_only in DataFrameGroupBy.mean is deprecated. In a future version, numeric_only will default to False. Either specify numeric_only or select only columns which should be valid for the function.\n",
      "  grouped = data.drop(columns=[\"index\", \"week\"]).groupby([\"player_id\", \"player_display_name\", \"position_group\", \"season\"]).agg(\"mean\").reset_index()\n",
      "/var/folders/7y/fwm3j5vs3p72s234bsqbz8sw0000gp/T/ipykernel_11429/1123169703.py:3: FutureWarning: The default value of numeric_only in DataFrameGroupBy.mean is deprecated. In a future version, numeric_only will default to False. Either specify numeric_only or select only columns which should be valid for the function.\n",
      "  grouped = data.drop(columns=[\"index\", \"week\"]).groupby([\"player_id\", \"player_display_name\", \"position_group\", \"season\"]).agg(\"mean\").reset_index()\n",
      "/var/folders/7y/fwm3j5vs3p72s234bsqbz8sw0000gp/T/ipykernel_11429/1123169703.py:3: FutureWarning: The default value of numeric_only in DataFrameGroupBy.mean is deprecated. In a future version, numeric_only will default to False. Either specify numeric_only or select only columns which should be valid for the function.\n",
      "  grouped = data.drop(columns=[\"index\", \"week\"]).groupby([\"player_id\", \"player_display_name\", \"position_group\", \"season\"]).agg(\"mean\").reset_index()\n"
     ]
    }
   ],
   "source": [
    "QB_data = group_data(QB_data)\n",
    "WR_data = group_data(WR_data)\n",
    "TE_data = group_data(TE_data)\n",
    "RB_data = group_data(RB_data)\n",
    "\n",
    "QB_data[\"next_fantasy_points\"] = get_next_fpg(QB_data)\n",
    "WR_data[\"next_fantasy_points\"] = get_next_fpg(WR_data)\n",
    "TE_data[\"next_fantasy_points\"] = get_next_fpg(TE_data)\n",
    "RB_data[\"next_fantasy_points\"] = get_next_fpg(RB_data)\n",
    "\n",
    "QB_current = QB_data[QB_data[\"season\"] == 2024]\n",
    "WR_current = WR_data[WR_data[\"season\"] == 2024]\n",
    "TE_current = TE_data[TE_data[\"season\"] == 2024]\n",
    "RB_current = RB_data[RB_data[\"season\"] == 2024]\n",
    "\n",
    "QB_data = QB_data[(QB_data[\"season\"] != 2024) & (~QB_data[\"next_fantasy_points\"].isna())]\n",
    "WR_data = WR_data[(WR_data[\"season\"] != 2024) & (~WR_data[\"next_fantasy_points\"].isna())]\n",
    "TE_data = TE_data[(TE_data[\"season\"] != 2024) & (~TE_data[\"next_fantasy_points\"].isna())]\n",
    "RB_data = RB_data[(RB_data[\"season\"] != 2024) & (~RB_data[\"next_fantasy_points\"].isna())]\n"
   ]
  },
  {
   "cell_type": "code",
   "execution_count": 278,
   "id": "8eaa0a94",
   "metadata": {},
   "outputs": [],
   "source": [
    "def get_replacement_level(df, num_slots):\n",
    "    \"\"\"\n",
    "    Returns the average fantasy points per game of the worst player of the position group that could be starting (num_teams * slots per team)\n",
    "    \"\"\"\n",
    "    df = df.sort_values(by=[\"season\", \"fantasy_points\"])\n",
    "    df[\"rank\"] = df.groupby([\"season\"])[\"fantasy_points\"].rank(ascending=False)\n",
    "    \n",
    "    return df[\"fantasy_points\"][df[\"rank\"] == 10 * num_slots].mean()\n",
    "\n",
    "def get_elite_level(df, elite_percentile=0.1, size=0.1):\n",
    "    \"\"\"\n",
    "    Returns the mean fantasy points for top n% of players\n",
    "    \"\"\"\n",
    "    df = df.sort_values(by=[\"season\", \"fantasy_points\"])\n",
    "    df[\"rank\"] = df.groupby([\"season\"])[\"fantasy_points\"].rank(ascending=False, pct=True)\n",
    "    \n",
    "    return df[\"fantasy_points\"][(df[\"rank\"] <= elite_percentile) & (df[\"rank\"] > elite_percentile - size)].mean()"
   ]
  },
  {
   "cell_type": "code",
   "execution_count": 279,
   "id": "14c890b3",
   "metadata": {},
   "outputs": [],
   "source": [
    "WR_PAR = get_elite_level(WR_data, 0.1) - get_replacement_level(WR_data, 3)\n",
    "RB_PAR = get_elite_level(RB_data, 0.1) - get_replacement_level(RB_data, 2)\n",
    "QB_PAR = get_elite_level(QB_data, 0.1) - get_replacement_level(QB_data, 1)\n",
    "TE_PAR = get_elite_level(TE_data, 0.1) - get_replacement_level(TE_data, 1)"
   ]
  },
  {
   "cell_type": "code",
   "execution_count": 280,
   "id": "cc101dc6",
   "metadata": {},
   "outputs": [
    {
     "name": "stdout",
     "output_type": "stream",
     "text": [
      "WR PAR: 5.0541329518265545, RB PAR: 5.264447538412, QB PAR: 4.607333709488433, TE PAR: 3.145265456253883\n"
     ]
    }
   ],
   "source": [
    "print(f\"WR PAR: {WR_PAR}, RB PAR: {RB_PAR}, QB PAR: {QB_PAR}, TE PAR: {TE_PAR}\")"
   ]
  },
  {
   "cell_type": "code",
   "execution_count": 281,
   "id": "2ff1c7ff",
   "metadata": {},
   "outputs": [],
   "source": [
    "import pandas as pd\n",
    "\n",
    "def get_scarcity_ratios(data, starter_counts):\n",
    "    \"\"\"\n",
    "    Compute number of startable players and scarcity ratio per season per position.\n",
    "\n",
    "    Parameters:\n",
    "    - data: DataFrame with columns ['position', 'season', 'fantasy_points']\n",
    "    - starter_counts: dict, e.g., {'QB': 12, 'RB': 24, 'WR': 24, 'TE': 12}\n",
    "\n",
    "    Returns:\n",
    "    - DataFrame with columns ['position', 'season', 'startable_count', 'total_players', 'scarcity_ratio']\n",
    "    \"\"\"\n",
    "    results = []\n",
    "\n",
    "    grouped = data.groupby(['season'])\n",
    "\n",
    "    for (season), group in grouped:\n",
    "        total_players = len(group)\n",
    "        starter_limit = starter_counts\n",
    "        startable_count = min(starter_limit, total_players)  # in case there are fewer players than the limit\n",
    "        scarcity_ratio = startable_count / total_players if total_players > 0 else None\n",
    "\n",
    "        results.append({\n",
    "            'season': season,\n",
    "            'startable_count': startable_count,\n",
    "            'total_players': total_players,\n",
    "            'scarcity_ratio': scarcity_ratio\n",
    "        })\n",
    "\n",
    "    return scarcity_ratio\n"
   ]
  },
  {
   "cell_type": "code",
   "execution_count": 282,
   "id": "2520bd47",
   "metadata": {},
   "outputs": [
    {
     "name": "stderr",
     "output_type": "stream",
     "text": [
      "/var/folders/7y/fwm3j5vs3p72s234bsqbz8sw0000gp/T/ipykernel_11429/991890443.py:18: FutureWarning: In a future version of pandas, a length 1 tuple will be returned when iterating over a groupby with a grouper equal to a list of length 1. Don't supply a list with a single grouper to avoid this warning.\n",
      "  for (season), group in grouped:\n",
      "/var/folders/7y/fwm3j5vs3p72s234bsqbz8sw0000gp/T/ipykernel_11429/991890443.py:18: FutureWarning: In a future version of pandas, a length 1 tuple will be returned when iterating over a groupby with a grouper equal to a list of length 1. Don't supply a list with a single grouper to avoid this warning.\n",
      "  for (season), group in grouped:\n",
      "/var/folders/7y/fwm3j5vs3p72s234bsqbz8sw0000gp/T/ipykernel_11429/991890443.py:18: FutureWarning: In a future version of pandas, a length 1 tuple will be returned when iterating over a groupby with a grouper equal to a list of length 1. Don't supply a list with a single grouper to avoid this warning.\n",
      "  for (season), group in grouped:\n",
      "/var/folders/7y/fwm3j5vs3p72s234bsqbz8sw0000gp/T/ipykernel_11429/991890443.py:18: FutureWarning: In a future version of pandas, a length 1 tuple will be returned when iterating over a groupby with a grouper equal to a list of length 1. Don't supply a list with a single grouper to avoid this warning.\n",
      "  for (season), group in grouped:\n"
     ]
    }
   ],
   "source": [
    "QB_scarcity = get_scarcity_ratios(QB_data, 10)\n",
    "TE_scarcity = get_scarcity_ratios(TE_data, 10)\n",
    "WR_scarcity = get_scarcity_ratios(WR_data, 30)\n",
    "RB_scarcity = get_scarcity_ratios(RB_data, 20)"
   ]
  },
  {
   "cell_type": "code",
   "execution_count": 283,
   "id": "515e2bbf",
   "metadata": {},
   "outputs": [
    {
     "name": "stdout",
     "output_type": "stream",
     "text": [
      "  position_group       PAR  scarcity_ratio   dropoff  slots  importance\n",
      "0             QB  4.607334        0.263158  2.927625      1    1.000000\n",
      "1             WR  5.054133        0.267857  3.576067      3    1.125261\n",
      "2             RB  5.264448        0.253165  3.685603      2    1.234690\n",
      "3             TE  3.145265        0.149254  3.050619      1    1.449818\n"
     ]
    }
   ],
   "source": [
    "positions = [\"QB\", \"WR\", \"RB\", \"TE\"]\n",
    "par_values = [QB_PAR, WR_PAR, RB_PAR, TE_PAR]\n",
    "dropoff = [get_elite_level(QB_data, 0.1) - get_elite_level(QB_data, 0.2), \n",
    "           get_elite_level(WR_data, 0.1) - get_elite_level(WR_data, 0.2),\n",
    "           get_elite_level(RB_data, 0.1) - get_elite_level(RB_data, 0.2),\n",
    "           get_elite_level(TE_data, 0.1) - get_elite_level(TE_data, 0.2)]\n",
    "scarcity_values = [QB_scarcity, WR_scarcity, RB_scarcity, TE_scarcity]\n",
    "slots = [1, 3, 2, 1]\n",
    "\n",
    "importance_df = pd.DataFrame({\n",
    "    \"position_group\": positions,\n",
    "    \"PAR\": par_values,\n",
    "    \"scarcity_ratio\": scarcity_values,\n",
    "    \"dropoff\" :dropoff,\n",
    "    \"slots\":slots\n",
    "})\n",
    "importance_df[\"importance\"] = (importance_df[\"PAR\"] / (importance_df[\"scarcity_ratio\"])) + (importance_df[\"dropoff\"] / (importance_df[\"scarcity_ratio\"]))\n",
    "importance_df[\"importance\"] = importance_df[\"importance\"] / importance_df[\"importance\"].min()\n",
    "print(importance_df)\n"
   ]
  },
  {
   "cell_type": "code",
   "execution_count": 284,
   "id": "3b11ba6a",
   "metadata": {},
   "outputs": [],
   "source": [
    "def generate_projection_model(data, raw_model):\n",
    "    X = data[passing_cols + weapon_cols + [\"fantasy_points\"]]\n",
    "    y = data[\"next_fantasy_points\"]\n",
    "    raw_model.fit(X, y)\n",
    "    return raw_model"
   ]
  },
  {
   "cell_type": "code",
   "execution_count": 285,
   "id": "4dabcbaf",
   "metadata": {},
   "outputs": [],
   "source": [
    "from sklearn.ensemble import GradientBoostingRegressor\n",
    "\n",
    "proj_base = GradientBoostingRegressor(n_estimators = 500)\n",
    "\n",
    "WR_model = generate_projection_model(WR_data, proj_base)\n",
    "WR_current[\"next_fantasy_points\"] = WR_model.predict(WR_current[passing_cols + weapon_cols + [\"fantasy_points\"]])\n",
    "\n",
    "RB_model = generate_projection_model(RB_data, proj_base)\n",
    "RB_current[\"next_fantasy_points\"] = RB_model.predict(RB_current[passing_cols + weapon_cols + [\"fantasy_points\"]])\n",
    "\n",
    "QB_model = generate_projection_model(QB_data, proj_base)\n",
    "QB_current[\"next_fantasy_points\"] = QB_model.predict(QB_current[passing_cols + weapon_cols + [\"fantasy_points\"]])\n",
    "\n",
    "TE_model = generate_projection_model(TE_data, proj_base)\n",
    "TE_current[\"next_fantasy_points\"] = TE_model.predict(TE_current[passing_cols + weapon_cols + [\"fantasy_points\"]])"
   ]
  },
  {
   "cell_type": "code",
   "execution_count": 286,
   "id": "72cb2009",
   "metadata": {},
   "outputs": [],
   "source": [
    "import plotly.express as px\n",
    "import pandas as pd\n",
    "\n",
    "def get_feature_importance(model):\n",
    "    df = pd.DataFrame({\n",
    "        'feature': model.feature_names_in_,\n",
    "        'importance': model.feature_importances_\n",
    "    })\n",
    "\n",
    "    # Sort by importance\n",
    "    df = df.sort_values('importance', ascending=True)\n",
    "\n",
    "    # Create horizontal bar plot\n",
    "    fig = px.bar(df, \n",
    "                x='importance', \n",
    "                y='feature',\n",
    "                orientation='h',\n",
    "                title='Gradient Boosting Feature Importance',\n",
    "                color='importance',\n",
    "                color_continuous_scale='viridis')\n",
    "\n",
    "    fig.update_layout(\n",
    "        xaxis_title=\"Feature Importance\",\n",
    "        yaxis_title=\"Features\",\n",
    "        height=max(400, len(df) * 25),\n",
    "        showlegend=False\n",
    "    )\n",
    "\n",
    "    fig.show()\n"
   ]
  },
  {
   "cell_type": "code",
   "execution_count": 287,
   "id": "5aafac3c",
   "metadata": {},
   "outputs": [],
   "source": [
    "QB_current = pd.merge(QB_current, importance_df)[[\"player_display_name\",\"position_group\", \"next_fantasy_points\", \"importance\"]]\n",
    "RB_current = pd.merge(RB_current, importance_df)[[\"player_display_name\", \"position_group\",\"next_fantasy_points\", \"importance\"]]\n",
    "WR_current = pd.merge(WR_current, importance_df)[[\"player_display_name\", \"position_group\",\"next_fantasy_points\", \"importance\"]]\n",
    "TE_current = pd.merge(TE_current, importance_df)[[\"player_display_name\", \"position_group\",\"next_fantasy_points\", \"importance\"]]"
   ]
  },
  {
   "cell_type": "code",
   "execution_count": 288,
   "id": "59b9546f",
   "metadata": {},
   "outputs": [],
   "source": [
    "big_board = pd.concat([QB_current, RB_current, WR_current, TE_current])"
   ]
  },
  {
   "cell_type": "code",
   "execution_count": 289,
   "id": "3ceca09c",
   "metadata": {},
   "outputs": [],
   "source": [
    "big_board[\"draft_value\"] = big_board[\"next_fantasy_points\"]  * big_board[\"importance\"]"
   ]
  },
  {
   "cell_type": "code",
   "execution_count": 290,
   "id": "2094d49b",
   "metadata": {},
   "outputs": [
    {
     "data": {
      "application/vnd.microsoft.datawrangler.viewer.v0+json": {
       "columns": [
        {
         "name": "index",
         "rawType": "int64",
         "type": "integer"
        },
        {
         "name": "player_display_name",
         "rawType": "category",
         "type": "unknown"
        },
        {
         "name": "position_group",
         "rawType": "object",
         "type": "string"
        },
        {
         "name": "next_fantasy_points",
         "rawType": "float64",
         "type": "float"
        },
        {
         "name": "importance",
         "rawType": "float64",
         "type": "float"
        },
        {
         "name": "draft_value",
         "rawType": "float64",
         "type": "float"
        }
       ],
       "ref": "86a765fc-b934-4a69-a243-2a7b6e4af62c",
       "rows": [
        [
         "0",
         "Aaron Rodgers",
         "QB",
         "14.3725515357788",
         "1.0",
         "14.3725515357788"
        ],
        [
         "1",
         "Joe Flacco",
         "QB",
         "10.946458826366854",
         "1.0",
         "10.946458826366854"
        ],
        [
         "2",
         "Matthew Stafford",
         "QB",
         "12.842089971397826",
         "1.0",
         "12.842089971397826"
        ],
        [
         "3",
         "Andy Dalton",
         "QB",
         "5.168430362965077",
         "1.0",
         "5.168430362965077"
        ],
        [
         "4",
         "Russell Wilson",
         "QB",
         "13.75515804092898",
         "1.0",
         "13.75515804092898"
        ],
        [
         "5",
         "Kirk Cousins",
         "QB",
         "13.500897103566665",
         "1.0",
         "13.500897103566665"
        ],
        [
         "6",
         "Geno Smith",
         "QB",
         "14.211685597575974",
         "1.0",
         "14.211685597575974"
        ],
        [
         "7",
         "Derek Carr",
         "QB",
         "8.36482291031484",
         "1.0",
         "8.36482291031484"
        ],
        [
         "8",
         "Jameis Winston",
         "QB",
         "6.094009685227949",
         "1.0",
         "6.094009685227949"
        ],
        [
         "9",
         "Dak Prescott",
         "QB",
         "12.836063015560633",
         "1.0",
         "12.836063015560633"
        ],
        [
         "10",
         "Jared Goff",
         "QB",
         "15.46550081266016",
         "1.0",
         "15.46550081266016"
        ],
        [
         "11",
         "Jacoby Brissett",
         "QB",
         "5.597748541664444",
         "1.0",
         "5.597748541664444"
        ],
        [
         "12",
         "Deshaun Watson",
         "QB",
         "11.465330324224123",
         "1.0",
         "11.465330324224123"
        ],
        [
         "13",
         "Cooper Rush",
         "QB",
         "7.314817271716521",
         "1.0",
         "7.314817271716521"
        ],
        [
         "14",
         "Mitchell Trubisky",
         "QB",
         "13.829105171768155",
         "1.0",
         "13.829105171768155"
        ],
        [
         "15",
         "Patrick Mahomes",
         "QB",
         "14.346016611283625",
         "1.0",
         "14.346016611283625"
        ],
        [
         "16",
         "Mason Rudolph",
         "QB",
         "9.003914352967497",
         "1.0",
         "9.003914352967497"
        ],
        [
         "17",
         "Lamar Jackson",
         "QB",
         "22.673185456908524",
         "1.0",
         "22.673185456908524"
        ],
        [
         "18",
         "Baker Mayfield",
         "QB",
         "13.574221541451847",
         "1.0",
         "13.574221541451847"
        ],
        [
         "19",
         "Josh Allen",
         "QB",
         "19.508114881535608",
         "1.0",
         "19.508114881535608"
        ],
        [
         "20",
         "Sam Darnold",
         "QB",
         "15.033747882810248",
         "1.0",
         "15.033747882810248"
        ],
        [
         "21",
         "Kyler Murray",
         "QB",
         "13.272135637847118",
         "1.0",
         "13.272135637847118"
        ],
        [
         "22",
         "Gardner Minshew",
         "QB",
         "11.843391238573638",
         "1.0",
         "11.843391238573638"
        ],
        [
         "23",
         "Drew Lock",
         "QB",
         "5.58878230360586",
         "1.0",
         "5.58878230360586"
        ],
        [
         "24",
         "Daniel Jones",
         "QB",
         "11.16761297768344",
         "1.0",
         "11.16761297768344"
        ],
        [
         "25",
         "Tyler Huntley",
         "QB",
         "9.707664056509556",
         "1.0",
         "9.707664056509556"
        ],
        [
         "26",
         "Tua Tagovailoa",
         "QB",
         "13.521317978901882",
         "1.0",
         "13.521317978901882"
        ],
        [
         "27",
         "Jordan Love",
         "QB",
         "8.977938049826792",
         "1.0",
         "8.977938049826792"
        ],
        [
         "28",
         "Justin Herbert",
         "QB",
         "13.238843660104695",
         "1.0",
         "13.238843660104695"
        ],
        [
         "29",
         "Jalen Hurts",
         "QB",
         "13.008528172726571",
         "1.0",
         "13.008528172726571"
        ],
        [
         "30",
         "Joe Burrow",
         "QB",
         "13.987711039601113",
         "1.0",
         "13.987711039601113"
        ],
        [
         "31",
         "Justin Fields",
         "QB",
         "12.856255929140495",
         "1.0",
         "12.856255929140495"
        ],
        [
         "32",
         "Trevor Lawrence",
         "QB",
         "7.9724707833856145",
         "1.0",
         "7.9724707833856145"
        ],
        [
         "33",
         "Mac Jones",
         "QB",
         "7.57037158083407",
         "1.0",
         "7.57037158083407"
        ],
        [
         "34",
         "Brock Purdy",
         "QB",
         "13.383549536599844",
         "1.0",
         "13.383549536599844"
        ],
        [
         "35",
         "Kenny Pickett",
         "QB",
         "13.058022747345223",
         "1.0",
         "13.058022747345223"
        ],
        [
         "36",
         "Desmond Ridder",
         "QB",
         "9.172320969525458",
         "1.0",
         "9.172320969525458"
        ],
        [
         "37",
         "Malik Willis",
         "QB",
         "7.712425419354043",
         "1.0",
         "7.712425419354043"
        ],
        [
         "38",
         "Aidan O'Connell",
         "QB",
         "6.9679100835676815",
         "1.0",
         "6.9679100835676815"
        ],
        [
         "39",
         "Clayton Tune",
         "QB",
         "7.959224059875556",
         "1.0",
         "7.959224059875556"
        ],
        [
         "40",
         "Dorian Thompson-Robinson",
         "QB",
         "1.954024155548875",
         "1.0",
         "1.954024155548875"
        ],
        [
         "41",
         "Jake Haener",
         "QB",
         "2.983858331714833",
         "1.0",
         "2.983858331714833"
        ],
        [
         "42",
         "Bryce Young",
         "QB",
         "6.842269737911965",
         "1.0",
         "6.842269737911965"
        ],
        [
         "43",
         "Will Levis",
         "QB",
         "12.216284429259819",
         "1.0",
         "12.216284429259819"
        ],
        [
         "44",
         "C.J. Stroud",
         "QB",
         "9.168350455883175",
         "1.0",
         "9.168350455883175"
        ],
        [
         "45",
         "Anthony Richardson",
         "QB",
         "10.811932129044513",
         "1.0",
         "10.811932129044513"
        ],
        [
         "46",
         "Spencer Rattler",
         "QB",
         "9.477787689650816",
         "1.0",
         "9.477787689650816"
        ],
        [
         "47",
         "Bo Nix",
         "QB",
         "15.364610266469388",
         "1.0",
         "15.364610266469388"
        ],
        [
         "48",
         "Drake Maye",
         "QB",
         "9.802813146886574",
         "1.0",
         "9.802813146886574"
        ],
        [
         "49",
         "Jayden Daniels",
         "QB",
         "14.549333329355793",
         "1.0",
         "14.549333329355793"
        ]
       ],
       "shape": {
        "columns": 5,
        "rows": 406
       }
      },
      "text/html": [
       "<div>\n",
       "<style scoped>\n",
       "    .dataframe tbody tr th:only-of-type {\n",
       "        vertical-align: middle;\n",
       "    }\n",
       "\n",
       "    .dataframe tbody tr th {\n",
       "        vertical-align: top;\n",
       "    }\n",
       "\n",
       "    .dataframe thead th {\n",
       "        text-align: right;\n",
       "    }\n",
       "</style>\n",
       "<table border=\"1\" class=\"dataframe\">\n",
       "  <thead>\n",
       "    <tr style=\"text-align: right;\">\n",
       "      <th></th>\n",
       "      <th>player_display_name</th>\n",
       "      <th>position_group</th>\n",
       "      <th>next_fantasy_points</th>\n",
       "      <th>importance</th>\n",
       "      <th>draft_value</th>\n",
       "    </tr>\n",
       "  </thead>\n",
       "  <tbody>\n",
       "    <tr>\n",
       "      <th>0</th>\n",
       "      <td>Aaron Rodgers</td>\n",
       "      <td>QB</td>\n",
       "      <td>14.372552</td>\n",
       "      <td>1.000000</td>\n",
       "      <td>14.372552</td>\n",
       "    </tr>\n",
       "    <tr>\n",
       "      <th>1</th>\n",
       "      <td>Joe Flacco</td>\n",
       "      <td>QB</td>\n",
       "      <td>10.946459</td>\n",
       "      <td>1.000000</td>\n",
       "      <td>10.946459</td>\n",
       "    </tr>\n",
       "    <tr>\n",
       "      <th>2</th>\n",
       "      <td>Matthew Stafford</td>\n",
       "      <td>QB</td>\n",
       "      <td>12.842090</td>\n",
       "      <td>1.000000</td>\n",
       "      <td>12.842090</td>\n",
       "    </tr>\n",
       "    <tr>\n",
       "      <th>3</th>\n",
       "      <td>Andy Dalton</td>\n",
       "      <td>QB</td>\n",
       "      <td>5.168430</td>\n",
       "      <td>1.000000</td>\n",
       "      <td>5.168430</td>\n",
       "    </tr>\n",
       "    <tr>\n",
       "      <th>4</th>\n",
       "      <td>Russell Wilson</td>\n",
       "      <td>QB</td>\n",
       "      <td>13.755158</td>\n",
       "      <td>1.000000</td>\n",
       "      <td>13.755158</td>\n",
       "    </tr>\n",
       "    <tr>\n",
       "      <th>...</th>\n",
       "      <td>...</td>\n",
       "      <td>...</td>\n",
       "      <td>...</td>\n",
       "      <td>...</td>\n",
       "      <td>...</td>\n",
       "    </tr>\n",
       "    <tr>\n",
       "      <th>82</th>\n",
       "      <td>Brevyn Spann-Ford</td>\n",
       "      <td>TE</td>\n",
       "      <td>3.447732</td>\n",
       "      <td>1.449818</td>\n",
       "      <td>4.998585</td>\n",
       "    </tr>\n",
       "    <tr>\n",
       "      <th>83</th>\n",
       "      <td>Tip Reiman</td>\n",
       "      <td>TE</td>\n",
       "      <td>3.397926</td>\n",
       "      <td>1.449818</td>\n",
       "      <td>4.926375</td>\n",
       "    </tr>\n",
       "    <tr>\n",
       "      <th>84</th>\n",
       "      <td>A.J. Barner</td>\n",
       "      <td>TE</td>\n",
       "      <td>4.594644</td>\n",
       "      <td>1.449818</td>\n",
       "      <td>6.661400</td>\n",
       "    </tr>\n",
       "    <tr>\n",
       "      <th>85</th>\n",
       "      <td>Erick All</td>\n",
       "      <td>TE</td>\n",
       "      <td>2.831975</td>\n",
       "      <td>1.449818</td>\n",
       "      <td>4.105849</td>\n",
       "    </tr>\n",
       "    <tr>\n",
       "      <th>86</th>\n",
       "      <td>Theo Johnson</td>\n",
       "      <td>TE</td>\n",
       "      <td>4.168476</td>\n",
       "      <td>1.449818</td>\n",
       "      <td>6.043534</td>\n",
       "    </tr>\n",
       "  </tbody>\n",
       "</table>\n",
       "<p>406 rows × 5 columns</p>\n",
       "</div>"
      ],
      "text/plain": [
       "   player_display_name position_group  next_fantasy_points  importance  \\\n",
       "0        Aaron Rodgers             QB            14.372552    1.000000   \n",
       "1           Joe Flacco             QB            10.946459    1.000000   \n",
       "2     Matthew Stafford             QB            12.842090    1.000000   \n",
       "3          Andy Dalton             QB             5.168430    1.000000   \n",
       "4       Russell Wilson             QB            13.755158    1.000000   \n",
       "..                 ...            ...                  ...         ...   \n",
       "82   Brevyn Spann-Ford             TE             3.447732    1.449818   \n",
       "83          Tip Reiman             TE             3.397926    1.449818   \n",
       "84         A.J. Barner             TE             4.594644    1.449818   \n",
       "85           Erick All             TE             2.831975    1.449818   \n",
       "86        Theo Johnson             TE             4.168476    1.449818   \n",
       "\n",
       "    draft_value  \n",
       "0     14.372552  \n",
       "1     10.946459  \n",
       "2     12.842090  \n",
       "3      5.168430  \n",
       "4     13.755158  \n",
       "..          ...  \n",
       "82     4.998585  \n",
       "83     4.926375  \n",
       "84     6.661400  \n",
       "85     4.105849  \n",
       "86     6.043534  \n",
       "\n",
       "[406 rows x 5 columns]"
      ]
     },
     "execution_count": 290,
     "metadata": {},
     "output_type": "execute_result"
    }
   ],
   "source": [
    "big_board"
   ]
  }
 ],
 "metadata": {
  "kernelspec": {
   "display_name": ".venv",
   "language": "python",
   "name": "python3"
  },
  "language_info": {
   "codemirror_mode": {
    "name": "ipython",
    "version": 3
   },
   "file_extension": ".py",
   "mimetype": "text/x-python",
   "name": "python",
   "nbconvert_exporter": "python",
   "pygments_lexer": "ipython3",
   "version": "3.12.8"
  }
 },
 "nbformat": 4,
 "nbformat_minor": 5
}
