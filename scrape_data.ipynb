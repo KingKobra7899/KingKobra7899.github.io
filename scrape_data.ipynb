{
 "cells": [
  {
   "cell_type": "code",
   "execution_count": 315,
   "id": "f8cfcb0b",
   "metadata": {},
   "outputs": [],
   "source": [
    "import pandas as pd\n",
    "import matplotlib.pyplot as plt\n",
    "import nfl_data_py as nfl"
   ]
  },
  {
   "cell_type": "code",
   "execution_count": 316,
   "id": "db442051",
   "metadata": {},
   "outputs": [
    {
     "name": "stdout",
     "output_type": "stream",
     "text": [
      "Downcasting floats.\n"
     ]
    }
   ],
   "source": [
    "data = nfl.import_weekly_data(range(2020, 2025))"
   ]
  },
  {
   "cell_type": "code",
   "execution_count": 317,
   "id": "b6bc8189",
   "metadata": {},
   "outputs": [],
   "source": [
    "data = data[data[\"season_type\"] == \"REG\"]\n",
    "data[\"player_display_name\"] = pd.Categorical(data[\"player_display_name\"])\n",
    "group_dfs = {group: group_df for group, group_df in data.groupby('position_group')}"
   ]
  },
  {
   "cell_type": "code",
   "execution_count": 318,
   "id": "9b10ff61",
   "metadata": {},
   "outputs": [],
   "source": [
    "all_cols = [\"player_id\", \"player_display_name\",\"position_group\", \"recent_team\", \"season\", \"week\"]\n",
    "weapon_cols = [\"carries\", \"rushing_yards\",\"rushing_tds\",\"rushing_fumbles_lost\",\"receptions\",\"receiving_yards\",\"receiving_tds\", \"receiving_yards_after_catch\", \"receiving_fumbles_lost\", \"receiving_epa\", \"wopr\",\"racr\",\"rushing_epa\"]\n",
    "passing_cols = [\"completions\", \"attempts\",\"passing_yards\",\"passing_tds\",\"interceptions\",\"sacks\",\"sack_fumbles_lost\", \"passing_epa\", \"pacr\", \"dakota\"]\n",
    "QB_data = group_dfs[\"QB\"][all_cols + passing_cols + weapon_cols].reset_index().fillna(0)\n",
    "WR_data = group_dfs[\"WR\"][all_cols + passing_cols + weapon_cols].reset_index().fillna(0)\n",
    "TE_data = group_dfs[\"TE\"][all_cols + passing_cols + weapon_cols].reset_index().fillna(0)\n",
    "RB_data = group_dfs[\"RB\"][all_cols + passing_cols + weapon_cols].reset_index().fillna(0)\n"
   ]
  },
  {
   "cell_type": "code",
   "execution_count": 319,
   "id": "5b8bb296",
   "metadata": {},
   "outputs": [],
   "source": [
    "import pandas as pd\n",
    "\n",
    "def calculate_fantasy_points(df: pd.DataFrame) -> pd.Series:\n",
    "    \"\"\"\n",
    "    Calculate fantasy points for offensive players using Old School settings.\n",
    "    \"\"\"\n",
    "\n",
    "    # Initialize to 0\n",
    "    fantasy_points = pd.Series(0, index=df.index, dtype=float)\n",
    "\n",
    "    # Rushing\n",
    "    if \"rushing_yards\" in df:\n",
    "        fantasy_points += df[\"rushing_yards\"] / 10\n",
    "        fantasy_points += (df[\"rushing_yards\"] >= 100).astype(int)\n",
    "        fantasy_points += (df[\"rushing_yards\"] >= 200).astype(int)\n",
    "    if \"rushing_tds\" in df:\n",
    "        fantasy_points += df[\"rushing_tds\"] * 6\n",
    "    if \"rushing_fumbles_lost\" in df:\n",
    "        fantasy_points += df[\"rushing_fumbles_lost\"] * -2\n",
    "\n",
    "    # Receiving\n",
    "    if \"receptions\" in df:\n",
    "        fantasy_points += df[\"receptions\"] * 0.5\n",
    "    if \"receiving_yards\" in df:\n",
    "        fantasy_points += df[\"receiving_yards\"] / 10\n",
    "        fantasy_points += (df[\"receiving_yards\"] >= 100).astype(int)\n",
    "        fantasy_points += (df[\"receiving_yards\"] >= 200).astype(int)\n",
    "    if \"receiving_tds\" in df:\n",
    "        fantasy_points += df[\"receiving_tds\"] * 6\n",
    "    if \"receiving_fumbles_lost\" in df:\n",
    "        fantasy_points += df[\"receiving_fumbles_lost\"] * -2\n",
    "\n",
    "    # Passing (for QBs)\n",
    "    if \"passing_yards\" in df:\n",
    "        fantasy_points += df[\"passing_yards\"] / 25\n",
    "        fantasy_points += (df[\"passing_yards\"] >= 400).astype(int)\n",
    "        fantasy_points += (df[\"passing_yards\"] >= 500).astype(int)\n",
    "    if \"passing_tds\" in df:\n",
    "        fantasy_points += df[\"passing_tds\"] * 4\n",
    "    if \"interceptions\" in df:\n",
    "        fantasy_points += df[\"interceptions\"] * -2\n",
    "    if \"sacks\" in df:\n",
    "        fantasy_points += df[\"sacks\"] * -1\n",
    "    if \"sack_fumbles_lost\" in df:\n",
    "        fantasy_points += df[\"sack_fumbles_lost\"] * -2\n",
    "\n",
    "    return fantasy_points\n"
   ]
  },
  {
   "cell_type": "code",
   "execution_count": 320,
   "id": "429c83ed",
   "metadata": {},
   "outputs": [],
   "source": [
    "QB_data[\"fantasy_points\"] = calculate_fantasy_points(QB_data)\n",
    "WR_data[\"fantasy_points\"] = calculate_fantasy_points(WR_data)\n",
    "TE_data[\"fantasy_points\"] = calculate_fantasy_points(TE_data)\n",
    "RB_data[\"fantasy_points\"] = calculate_fantasy_points(RB_data)"
   ]
  },
  {
   "cell_type": "code",
   "execution_count": 321,
   "id": "1e88644b",
   "metadata": {},
   "outputs": [],
   "source": [
    "def group_data(data):\n",
    "    # Group by the specified columns and calculate means\n",
    "    grouped = data.drop(columns=[\"index\", \"week\"]).groupby([\"player_id\", \"player_display_name\", \"position_group\", \"season\"]).agg(\"mean\").reset_index()\n",
    "    \n",
    "    # Count observations per group to filter out groups with <5 observations\n",
    "    group_counts = data.groupby([\"player_id\", \"player_display_name\", \"position_group\", \"season\"]).size().reset_index(name='count')\n",
    "    \n",
    "    # Filter to keep only groups with 5 or more observations\n",
    "    valid_groups = group_counts[group_counts['count'] >= 5]\n",
    "    \n",
    "    # Merge to keep only the valid groups in the final result\n",
    "    result = grouped.merge(valid_groups[[\"player_id\", \"player_display_name\", \"position_group\", \"season\"]], \n",
    "                          on=[\"player_id\", \"player_display_name\", \"position_group\", \"season\"])\n",
    "    \n",
    "    return result"
   ]
  },
  {
   "cell_type": "code",
   "execution_count": 322,
   "id": "e085deb7",
   "metadata": {},
   "outputs": [],
   "source": [
    "def get_next_fpg(data):\n",
    "    data = data.sort_values(by=[\"player_id\", \"player_display_name\", \"season\"])\n",
    "    return data.groupby([\"player_id\", \"player_display_name\"])[\"fantasy_points\"].shift(-1)\n"
   ]
  },
  {
   "cell_type": "code",
   "execution_count": 323,
   "id": "1ad3aec0",
   "metadata": {},
   "outputs": [
    {
     "name": "stderr",
     "output_type": "stream",
     "text": [
      "/var/folders/7y/fwm3j5vs3p72s234bsqbz8sw0000gp/T/ipykernel_11429/1123169703.py:3: FutureWarning: The default value of numeric_only in DataFrameGroupBy.mean is deprecated. In a future version, numeric_only will default to False. Either specify numeric_only or select only columns which should be valid for the function.\n",
      "  grouped = data.drop(columns=[\"index\", \"week\"]).groupby([\"player_id\", \"player_display_name\", \"position_group\", \"season\"]).agg(\"mean\").reset_index()\n",
      "/var/folders/7y/fwm3j5vs3p72s234bsqbz8sw0000gp/T/ipykernel_11429/1123169703.py:3: FutureWarning: The default value of numeric_only in DataFrameGroupBy.mean is deprecated. In a future version, numeric_only will default to False. Either specify numeric_only or select only columns which should be valid for the function.\n",
      "  grouped = data.drop(columns=[\"index\", \"week\"]).groupby([\"player_id\", \"player_display_name\", \"position_group\", \"season\"]).agg(\"mean\").reset_index()\n",
      "/var/folders/7y/fwm3j5vs3p72s234bsqbz8sw0000gp/T/ipykernel_11429/1123169703.py:3: FutureWarning: The default value of numeric_only in DataFrameGroupBy.mean is deprecated. In a future version, numeric_only will default to False. Either specify numeric_only or select only columns which should be valid for the function.\n",
      "  grouped = data.drop(columns=[\"index\", \"week\"]).groupby([\"player_id\", \"player_display_name\", \"position_group\", \"season\"]).agg(\"mean\").reset_index()\n",
      "/var/folders/7y/fwm3j5vs3p72s234bsqbz8sw0000gp/T/ipykernel_11429/1123169703.py:3: FutureWarning: The default value of numeric_only in DataFrameGroupBy.mean is deprecated. In a future version, numeric_only will default to False. Either specify numeric_only or select only columns which should be valid for the function.\n",
      "  grouped = data.drop(columns=[\"index\", \"week\"]).groupby([\"player_id\", \"player_display_name\", \"position_group\", \"season\"]).agg(\"mean\").reset_index()\n"
     ]
    }
   ],
   "source": [
    "QB_data = group_data(QB_data)\n",
    "WR_data = group_data(WR_data)\n",
    "TE_data = group_data(TE_data)\n",
    "RB_data = group_data(RB_data)\n",
    "\n",
    "QB_data[\"next_fantasy_points\"] = get_next_fpg(QB_data)\n",
    "WR_data[\"next_fantasy_points\"] = get_next_fpg(WR_data)\n",
    "TE_data[\"next_fantasy_points\"] = get_next_fpg(TE_data)\n",
    "RB_data[\"next_fantasy_points\"] = get_next_fpg(RB_data)\n",
    "\n",
    "QB_current = QB_data[QB_data[\"season\"] == 2024]\n",
    "WR_current = WR_data[WR_data[\"season\"] == 2024]\n",
    "TE_current = TE_data[TE_data[\"season\"] == 2024]\n",
    "RB_current = RB_data[RB_data[\"season\"] == 2024]\n",
    "\n",
    "QB_data = QB_data[(QB_data[\"season\"] != 2024) & (~QB_data[\"next_fantasy_points\"].isna())]\n",
    "WR_data = WR_data[(WR_data[\"season\"] != 2024) & (~WR_data[\"next_fantasy_points\"].isna())]\n",
    "TE_data = TE_data[(TE_data[\"season\"] != 2024) & (~TE_data[\"next_fantasy_points\"].isna())]\n",
    "RB_data = RB_data[(RB_data[\"season\"] != 2024) & (~RB_data[\"next_fantasy_points\"].isna())]\n"
   ]
  },
  {
   "cell_type": "code",
   "execution_count": 324,
   "id": "8eaa0a94",
   "metadata": {},
   "outputs": [],
   "source": [
    "def get_replacement_level(df, num_slots):\n",
    "    \"\"\"\n",
    "    Returns the average fantasy points per game of the worst player of the position group that could be starting (num_teams * slots per team)\n",
    "    \"\"\"\n",
    "    df = df.sort_values(by=[\"season\", \"fantasy_points\"])\n",
    "    df[\"rank\"] = df.groupby([\"season\"])[\"fantasy_points\"].rank(ascending=False)\n",
    "    \n",
    "    return df[\"fantasy_points\"][df[\"rank\"] == 10 * num_slots].mean()\n",
    "\n",
    "def get_elite_level(df, elite_percentile=0.1, size=0.1):\n",
    "    \"\"\"\n",
    "    Returns the mean fantasy points for top n% of players\n",
    "    \"\"\"\n",
    "    df = df.sort_values(by=[\"season\", \"fantasy_points\"])\n",
    "    df[\"rank\"] = df.groupby([\"season\"])[\"fantasy_points\"].rank(ascending=False, pct=True)\n",
    "    \n",
    "    return df[\"fantasy_points\"][(df[\"rank\"] <= elite_percentile) & (df[\"rank\"] > elite_percentile - size)].mean()"
   ]
  },
  {
   "cell_type": "code",
   "execution_count": 325,
   "id": "14c890b3",
   "metadata": {},
   "outputs": [],
   "source": [
    "WR_PAR = get_elite_level(WR_data, 0.1) - get_replacement_level(WR_data, 3)\n",
    "RB_PAR = get_elite_level(RB_data, 0.1) - get_replacement_level(RB_data, 2)\n",
    "QB_PAR = get_elite_level(QB_data, 0.1) - get_replacement_level(QB_data, 1)\n",
    "TE_PAR = get_elite_level(TE_data, 0.1) - get_replacement_level(TE_data, 1)"
   ]
  },
  {
   "cell_type": "code",
   "execution_count": 326,
   "id": "cc101dc6",
   "metadata": {},
   "outputs": [
    {
     "name": "stdout",
     "output_type": "stream",
     "text": [
      "WR PAR: 5.0541329518265545, RB PAR: 5.264447538412, QB PAR: 4.607333709488433, TE PAR: 3.145265456253883\n"
     ]
    }
   ],
   "source": [
    "print(f\"WR PAR: {WR_PAR}, RB PAR: {RB_PAR}, QB PAR: {QB_PAR}, TE PAR: {TE_PAR}\")"
   ]
  },
  {
   "cell_type": "code",
   "execution_count": 327,
   "id": "2ff1c7ff",
   "metadata": {},
   "outputs": [],
   "source": [
    "import pandas as pd\n",
    "\n",
    "def get_scarcity_ratios(data, starter_counts):\n",
    "    \"\"\"\n",
    "    Compute number of startable players and scarcity ratio per season per position.\n",
    "\n",
    "    Parameters:\n",
    "    - data: DataFrame with columns ['position', 'season', 'fantasy_points']\n",
    "    - starter_counts: dict, e.g., {'QB': 12, 'RB': 24, 'WR': 24, 'TE': 12}\n",
    "\n",
    "    Returns:\n",
    "    - DataFrame with columns ['position', 'season', 'startable_count', 'total_players', 'scarcity_ratio']\n",
    "    \"\"\"\n",
    "    results = []\n",
    "\n",
    "    grouped = data.groupby(['season'])\n",
    "\n",
    "    for (season), group in grouped:\n",
    "        total_players = len(group)\n",
    "        starter_limit = starter_counts\n",
    "        startable_count = min(starter_limit, total_players)  # in case there are fewer players than the limit\n",
    "        scarcity_ratio = startable_count / total_players if total_players > 0 else None\n",
    "\n",
    "        results.append({\n",
    "            'season': season,\n",
    "            'startable_count': startable_count,\n",
    "            'total_players': total_players,\n",
    "            'scarcity_ratio': scarcity_ratio\n",
    "        })\n",
    "\n",
    "    return scarcity_ratio\n"
   ]
  },
  {
   "cell_type": "code",
   "execution_count": 328,
   "id": "2520bd47",
   "metadata": {},
   "outputs": [
    {
     "name": "stderr",
     "output_type": "stream",
     "text": [
      "/var/folders/7y/fwm3j5vs3p72s234bsqbz8sw0000gp/T/ipykernel_11429/991890443.py:18: FutureWarning: In a future version of pandas, a length 1 tuple will be returned when iterating over a groupby with a grouper equal to a list of length 1. Don't supply a list with a single grouper to avoid this warning.\n",
      "  for (season), group in grouped:\n",
      "/var/folders/7y/fwm3j5vs3p72s234bsqbz8sw0000gp/T/ipykernel_11429/991890443.py:18: FutureWarning: In a future version of pandas, a length 1 tuple will be returned when iterating over a groupby with a grouper equal to a list of length 1. Don't supply a list with a single grouper to avoid this warning.\n",
      "  for (season), group in grouped:\n",
      "/var/folders/7y/fwm3j5vs3p72s234bsqbz8sw0000gp/T/ipykernel_11429/991890443.py:18: FutureWarning: In a future version of pandas, a length 1 tuple will be returned when iterating over a groupby with a grouper equal to a list of length 1. Don't supply a list with a single grouper to avoid this warning.\n",
      "  for (season), group in grouped:\n",
      "/var/folders/7y/fwm3j5vs3p72s234bsqbz8sw0000gp/T/ipykernel_11429/991890443.py:18: FutureWarning: In a future version of pandas, a length 1 tuple will be returned when iterating over a groupby with a grouper equal to a list of length 1. Don't supply a list with a single grouper to avoid this warning.\n",
      "  for (season), group in grouped:\n"
     ]
    }
   ],
   "source": [
    "QB_scarcity = get_scarcity_ratios(QB_data, 10)\n",
    "TE_scarcity = get_scarcity_ratios(TE_data, 10)\n",
    "WR_scarcity = get_scarcity_ratios(WR_data, 30)\n",
    "RB_scarcity = get_scarcity_ratios(RB_data, 20)"
   ]
  },
  {
   "cell_type": "code",
   "execution_count": 329,
   "id": "515e2bbf",
   "metadata": {},
   "outputs": [
    {
     "name": "stdout",
     "output_type": "stream",
     "text": [
      "  position_group       PAR  scarcity_ratio   dropoff  slots  replacement  \\\n",
      "0             QB  4.607334        0.263158  2.927625      1    13.938434   \n",
      "1             WR  5.054133        0.267857  3.576067      3    10.747083   \n",
      "2             RB  5.264448        0.253165  3.685603      2    12.204858   \n",
      "3             TE  3.145265        0.149254  3.050619      1     8.349370   \n",
      "\n",
      "   importance  \n",
      "0    1.000000  \n",
      "1    1.125261  \n",
      "2    1.234690  \n",
      "3    1.449818  \n"
     ]
    }
   ],
   "source": [
    "positions = [\"QB\", \"WR\", \"RB\", \"TE\"]\n",
    "par_values = [QB_PAR, WR_PAR, RB_PAR, TE_PAR]\n",
    "replacement = [get_replacement_level(WR_data, 1), \n",
    "               get_replacement_level(WR_data, 3), \n",
    "               get_replacement_level(RB_data, 2),\n",
    "               get_replacement_level(TE_data, 1)]\n",
    "dropoff = [get_elite_level(QB_data, 0.1) - get_elite_level(QB_data, 0.2), \n",
    "           get_elite_level(WR_data, 0.1) - get_elite_level(WR_data, 0.2),\n",
    "           get_elite_level(RB_data, 0.1) - get_elite_level(RB_data, 0.2),\n",
    "           get_elite_level(TE_data, 0.1) - get_elite_level(TE_data, 0.2)]\n",
    "scarcity_values = [QB_scarcity, WR_scarcity, RB_scarcity, TE_scarcity]\n",
    "slots = [1, 3, 2, 1]\n",
    "\n",
    "importance_df = pd.DataFrame({\n",
    "    \"position_group\": positions,\n",
    "    \"PAR\": par_values,\n",
    "    \"scarcity_ratio\": scarcity_values,\n",
    "    \"dropoff\" :dropoff,\n",
    "    \"slots\":slots,\n",
    "    \"replacement\":replacement\n",
    "})\n",
    "importance_df[\"importance\"] = (importance_df[\"PAR\"] / (importance_df[\"scarcity_ratio\"])) + (importance_df[\"dropoff\"] / (importance_df[\"scarcity_ratio\"]))\n",
    "importance_df[\"importance\"] = importance_df[\"importance\"] / importance_df[\"importance\"].min()\n",
    "\n",
    "print(importance_df)\n"
   ]
  },
  {
   "cell_type": "code",
   "execution_count": 330,
   "id": "3b11ba6a",
   "metadata": {},
   "outputs": [],
   "source": [
    "def generate_projection_model(data, raw_model):\n",
    "    X = data[passing_cols + weapon_cols + [\"fantasy_points\"]]\n",
    "    y = data[\"next_fantasy_points\"]\n",
    "    raw_model.fit(X, y)\n",
    "    return raw_model"
   ]
  },
  {
   "cell_type": "code",
   "execution_count": 331,
   "id": "4dabcbaf",
   "metadata": {},
   "outputs": [],
   "source": [
    "from sklearn.ensemble import GradientBoostingRegressor\n",
    "\n",
    "proj_base = GradientBoostingRegressor(n_estimators = 500)\n",
    "\n",
    "WR_model = generate_projection_model(WR_data, proj_base)\n",
    "WR_current[\"next_fantasy_points\"] = WR_model.predict(WR_current[passing_cols + weapon_cols + [\"fantasy_points\"]])\n",
    "\n",
    "RB_model = generate_projection_model(RB_data, proj_base)\n",
    "RB_current[\"next_fantasy_points\"] = RB_model.predict(RB_current[passing_cols + weapon_cols + [\"fantasy_points\"]])\n",
    "\n",
    "QB_model = generate_projection_model(QB_data, proj_base)\n",
    "QB_current[\"next_fantasy_points\"] = QB_model.predict(QB_current[passing_cols + weapon_cols + [\"fantasy_points\"]])\n",
    "\n",
    "TE_model = generate_projection_model(TE_data, proj_base)\n",
    "TE_current[\"next_fantasy_points\"] = TE_model.predict(TE_current[passing_cols + weapon_cols + [\"fantasy_points\"]])"
   ]
  },
  {
   "cell_type": "code",
   "execution_count": 332,
   "id": "72cb2009",
   "metadata": {},
   "outputs": [],
   "source": [
    "import plotly.express as px\n",
    "import pandas as pd\n",
    "\n",
    "def get_feature_importance(model):\n",
    "    df = pd.DataFrame({\n",
    "        'feature': model.feature_names_in_,\n",
    "        'importance': model.feature_importances_\n",
    "    })\n",
    "\n",
    "    # Sort by importance\n",
    "    df = df.sort_values('importance', ascending=True)\n",
    "\n",
    "    # Create horizontal bar plot\n",
    "    fig = px.bar(df, \n",
    "                x='importance', \n",
    "                y='feature',\n",
    "                orientation='h',\n",
    "                title='Gradient Boosting Feature Importance',\n",
    "                color='importance',\n",
    "                color_continuous_scale='viridis')\n",
    "\n",
    "    fig.update_layout(\n",
    "        xaxis_title=\"Feature Importance\",\n",
    "        yaxis_title=\"Features\",\n",
    "        height=max(400, len(df) * 25),\n",
    "        showlegend=False\n",
    "    )\n",
    "\n",
    "    fig.show()\n"
   ]
  },
  {
   "cell_type": "code",
   "execution_count": 333,
   "id": "5aafac3c",
   "metadata": {},
   "outputs": [],
   "source": [
    "QB_current = pd.merge(QB_current, importance_df)[[\"player_display_name\",\"position_group\", \"next_fantasy_points\", \"importance\",\"replacement\"]]\n",
    "RB_current = pd.merge(RB_current, importance_df)[[\"player_display_name\", \"position_group\",\"next_fantasy_points\", \"importance\",\"replacement\"]]\n",
    "WR_current = pd.merge(WR_current, importance_df)[[\"player_display_name\", \"position_group\",\"next_fantasy_points\", \"importance\",\"replacement\"]]\n",
    "TE_current = pd.merge(TE_current, importance_df)[[\"player_display_name\", \"position_group\",\"next_fantasy_points\", \"importance\",\"replacement\"]]"
   ]
  },
  {
   "cell_type": "code",
   "execution_count": 334,
   "id": "59b9546f",
   "metadata": {},
   "outputs": [],
   "source": [
    "big_board = pd.concat([QB_current, RB_current, WR_current, TE_current])"
   ]
  },
  {
   "cell_type": "code",
   "execution_count": null,
   "id": "3ceca09c",
   "metadata": {},
   "outputs": [],
   "source": []
  },
  {
   "cell_type": "code",
   "execution_count": 335,
   "id": "2094d49b",
   "metadata": {},
   "outputs": [],
   "source": [
    "big_board[\"PAR\"] = big_board[\"next_fantasy_points\"] - big_board[\"replacement\"]\n",
    "big_board[\"draft_value\"] = big_board[\"PAR\"]  * big_board[\"importance\"]\n",
    "\n",
    "big_board.to_csv(\"big_board.csv\")"
   ]
  },
  {
   "cell_type": "code",
   "execution_count": 336,
   "id": "ae2e3cac",
   "metadata": {},
   "outputs": [
    {
     "data": {
      "application/vnd.microsoft.datawrangler.viewer.v0+json": {
       "columns": [
        {
         "name": "index",
         "rawType": "int64",
         "type": "integer"
        },
        {
         "name": "player_display_name",
         "rawType": "category",
         "type": "unknown"
        },
        {
         "name": "position_group",
         "rawType": "object",
         "type": "string"
        },
        {
         "name": "next_fantasy_points",
         "rawType": "float64",
         "type": "float"
        },
        {
         "name": "importance",
         "rawType": "float64",
         "type": "float"
        },
        {
         "name": "replacement",
         "rawType": "float64",
         "type": "float"
        },
        {
         "name": "PAR",
         "rawType": "float64",
         "type": "float"
        },
        {
         "name": "draft_value",
         "rawType": "float64",
         "type": "float"
        }
       ],
       "ref": "8c5e019c-dd10-4cff-9e47-fb4be87e8dbf",
       "rows": [
        [
         "0",
         "Aaron Rodgers",
         "QB",
         "14.796933091946624",
         "1.0",
         "13.938433718589334",
         "0.8584993733572901",
         "0.8584993733572901"
        ],
        [
         "1",
         "Joe Flacco",
         "QB",
         "11.123332345564208",
         "1.0",
         "13.938433718589334",
         "-2.8151013730251258",
         "-2.8151013730251258"
        ],
        [
         "2",
         "Matthew Stafford",
         "QB",
         "12.841134501352531",
         "1.0",
         "13.938433718589334",
         "-1.0972992172368023",
         "-1.0972992172368023"
        ],
        [
         "3",
         "Andy Dalton",
         "QB",
         "5.168430362965079",
         "1.0",
         "13.938433718589334",
         "-8.770003355624254",
         "-8.770003355624254"
        ],
        [
         "4",
         "Russell Wilson",
         "QB",
         "13.695103800080071",
         "1.0",
         "13.938433718589334",
         "-0.24332991850926255",
         "-0.24332991850926255"
        ],
        [
         "5",
         "Kirk Cousins",
         "QB",
         "13.146230474369457",
         "1.0",
         "13.938433718589334",
         "-0.792203244219877",
         "-0.792203244219877"
        ],
        [
         "6",
         "Geno Smith",
         "QB",
         "14.211685597575968",
         "1.0",
         "13.938433718589334",
         "0.2732518789866347",
         "0.2732518789866347"
        ],
        [
         "7",
         "Derek Carr",
         "QB",
         "8.367868596679486",
         "1.0",
         "13.938433718589334",
         "-5.570565121909848",
         "-5.570565121909848"
        ],
        [
         "8",
         "Jameis Winston",
         "QB",
         "6.872659559879711",
         "1.0",
         "13.938433718589334",
         "-7.0657741587096226",
         "-7.0657741587096226"
        ],
        [
         "9",
         "Dak Prescott",
         "QB",
         "12.8577160913376",
         "1.0",
         "13.938433718589334",
         "-1.0807176272517331",
         "-1.0807176272517331"
        ],
        [
         "10",
         "Jared Goff",
         "QB",
         "15.179563066785422",
         "1.0",
         "13.938433718589334",
         "1.241129348196088",
         "1.241129348196088"
        ],
        [
         "11",
         "Jacoby Brissett",
         "QB",
         "5.354046385999253",
         "1.0",
         "13.938433718589334",
         "-8.58438733259008",
         "-8.58438733259008"
        ],
        [
         "12",
         "Deshaun Watson",
         "QB",
         "11.255202850560316",
         "1.0",
         "13.938433718589334",
         "-2.6832308680290176",
         "-2.6832308680290176"
        ],
        [
         "13",
         "Cooper Rush",
         "QB",
         "7.4592853752158605",
         "1.0",
         "13.938433718589334",
         "-6.479148343373473",
         "-6.479148343373473"
        ],
        [
         "14",
         "Mitchell Trubisky",
         "QB",
         "14.085926520971693",
         "1.0",
         "13.938433718589334",
         "0.1474928023823594",
         "0.1474928023823594"
        ],
        [
         "15",
         "Patrick Mahomes",
         "QB",
         "14.354624431610457",
         "1.0",
         "13.938433718589334",
         "0.4161907130211233",
         "0.4161907130211233"
        ],
        [
         "16",
         "Mason Rudolph",
         "QB",
         "8.868712451943047",
         "1.0",
         "13.938433718589334",
         "-5.069721266646287",
         "-5.069721266646287"
        ],
        [
         "17",
         "Lamar Jackson",
         "QB",
         "21.955622742358997",
         "1.0",
         "13.938433718589334",
         "8.017189023769664",
         "8.017189023769664"
        ],
        [
         "18",
         "Baker Mayfield",
         "QB",
         "13.579839078267641",
         "1.0",
         "13.938433718589334",
         "-0.35859464032169264",
         "-0.35859464032169264"
        ],
        [
         "19",
         "Josh Allen",
         "QB",
         "19.438352756999365",
         "1.0",
         "13.938433718589334",
         "5.499919038410031",
         "5.499919038410031"
        ],
        [
         "20",
         "Sam Darnold",
         "QB",
         "14.834352354624276",
         "1.0",
         "13.938433718589334",
         "0.895918636034942",
         "0.895918636034942"
        ],
        [
         "21",
         "Kyler Murray",
         "QB",
         "13.266830069141324",
         "1.0",
         "13.938433718589334",
         "-0.6716036494480093",
         "-0.6716036494480093"
        ],
        [
         "22",
         "Gardner Minshew",
         "QB",
         "11.843391238573638",
         "1.0",
         "13.938433718589334",
         "-2.095042480015696",
         "-2.095042480015696"
        ],
        [
         "23",
         "Drew Lock",
         "QB",
         "5.588782303605862",
         "1.0",
         "13.938433718589334",
         "-8.349651414983471",
         "-8.349651414983471"
        ],
        [
         "24",
         "Daniel Jones",
         "QB",
         "11.193658378201667",
         "1.0",
         "13.938433718589334",
         "-2.744775340387667",
         "-2.744775340387667"
        ],
        [
         "25",
         "Tyler Huntley",
         "QB",
         "9.708294806710116",
         "1.0",
         "13.938433718589334",
         "-4.230138911879218",
         "-4.230138911879218"
        ],
        [
         "26",
         "Tua Tagovailoa",
         "QB",
         "13.52255781936617",
         "1.0",
         "13.938433718589334",
         "-0.41587589922316326",
         "-0.41587589922316326"
        ],
        [
         "27",
         "Jordan Love",
         "QB",
         "8.972632481120993",
         "1.0",
         "13.938433718589334",
         "-4.965801237468341",
         "-4.965801237468341"
        ],
        [
         "28",
         "Justin Herbert",
         "QB",
         "13.240796387395713",
         "1.0",
         "13.938433718589334",
         "-0.6976373311936204",
         "-0.6976373311936204"
        ],
        [
         "29",
         "Jalen Hurts",
         "QB",
         "12.457408014232334",
         "1.0",
         "13.938433718589334",
         "-1.481025704357",
         "-1.481025704357"
        ],
        [
         "30",
         "Joe Burrow",
         "QB",
         "14.321613680064342",
         "1.0",
         "13.938433718589334",
         "0.3831799614750082",
         "0.3831799614750082"
        ],
        [
         "31",
         "Justin Fields",
         "QB",
         "12.816955119252238",
         "1.0",
         "13.938433718589334",
         "-1.1214785993370953",
         "-1.1214785993370953"
        ],
        [
         "32",
         "Trevor Lawrence",
         "QB",
         "7.970703415075551",
         "1.0",
         "13.938433718589334",
         "-5.9677303035137825",
         "-5.9677303035137825"
        ],
        [
         "33",
         "Mac Jones",
         "QB",
         "7.5714051386909995",
         "1.0",
         "13.938433718589334",
         "-6.367028579898334",
         "-6.367028579898334"
        ],
        [
         "34",
         "Brock Purdy",
         "QB",
         "13.383549536599846",
         "1.0",
         "13.938433718589334",
         "-0.5548841819894879",
         "-0.5548841819894879"
        ],
        [
         "35",
         "Kenny Pickett",
         "QB",
         "12.727759270250932",
         "1.0",
         "13.938433718589334",
         "-1.210674448338402",
         "-1.210674448338402"
        ],
        [
         "36",
         "Desmond Ridder",
         "QB",
         "9.179874994728184",
         "1.0",
         "13.938433718589334",
         "-4.7585587238611495",
         "-4.7585587238611495"
        ],
        [
         "37",
         "Malik Willis",
         "QB",
         "7.787002514216771",
         "1.0",
         "13.938433718589334",
         "-6.151431204372563",
         "-6.151431204372563"
        ],
        [
         "38",
         "Aidan O'Connell",
         "QB",
         "6.969240202963278",
         "1.0",
         "13.938433718589334",
         "-6.969193515626055",
         "-6.969193515626055"
        ],
        [
         "39",
         "Clayton Tune",
         "QB",
         "7.89805185022636",
         "1.0",
         "13.938433718589334",
         "-6.0403818683629735",
         "-6.0403818683629735"
        ],
        [
         "40",
         "Dorian Thompson-Robinson",
         "QB",
         "1.5299719372732072",
         "1.0",
         "13.938433718589334",
         "-12.408461781316127",
         "-12.408461781316127"
        ],
        [
         "41",
         "Jake Haener",
         "QB",
         "3.3324261810974978",
         "1.0",
         "13.938433718589334",
         "-10.606007537491836",
         "-10.606007537491836"
        ],
        [
         "42",
         "Bryce Young",
         "QB",
         "6.842269737911966",
         "1.0",
         "13.938433718589334",
         "-7.0961639806773675",
         "-7.0961639806773675"
        ],
        [
         "43",
         "Will Levis",
         "QB",
         "12.074613570387688",
         "1.0",
         "13.938433718589334",
         "-1.8638201482016452",
         "-1.8638201482016452"
        ],
        [
         "44",
         "C.J. Stroud",
         "QB",
         "9.20691461500911",
         "1.0",
         "13.938433718589334",
         "-4.731519103580224",
         "-4.731519103580224"
        ],
        [
         "45",
         "Anthony Richardson",
         "QB",
         "9.8118754102268",
         "1.0",
         "13.938433718589334",
         "-4.126558308362533",
         "-4.126558308362533"
        ],
        [
         "46",
         "Spencer Rattler",
         "QB",
         "10.17418646041667",
         "1.0",
         "13.938433718589334",
         "-3.764247258172663",
         "-3.764247258172663"
        ],
        [
         "47",
         "Bo Nix",
         "QB",
         "15.54402445428811",
         "1.0",
         "13.938433718589334",
         "1.605590735698776",
         "1.605590735698776"
        ],
        [
         "48",
         "Drake Maye",
         "QB",
         "10.09207857465407",
         "1.0",
         "13.938433718589334",
         "-3.846355143935263",
         "-3.846355143935263"
        ],
        [
         "49",
         "Jayden Daniels",
         "QB",
         "14.669602209114261",
         "1.0",
         "13.938433718589334",
         "0.7311684905249276",
         "0.7311684905249276"
        ]
       ],
       "shape": {
        "columns": 7,
        "rows": 406
       }
      },
      "text/html": [
       "<div>\n",
       "<style scoped>\n",
       "    .dataframe tbody tr th:only-of-type {\n",
       "        vertical-align: middle;\n",
       "    }\n",
       "\n",
       "    .dataframe tbody tr th {\n",
       "        vertical-align: top;\n",
       "    }\n",
       "\n",
       "    .dataframe thead th {\n",
       "        text-align: right;\n",
       "    }\n",
       "</style>\n",
       "<table border=\"1\" class=\"dataframe\">\n",
       "  <thead>\n",
       "    <tr style=\"text-align: right;\">\n",
       "      <th></th>\n",
       "      <th>player_display_name</th>\n",
       "      <th>position_group</th>\n",
       "      <th>next_fantasy_points</th>\n",
       "      <th>importance</th>\n",
       "      <th>replacement</th>\n",
       "      <th>PAR</th>\n",
       "      <th>draft_value</th>\n",
       "    </tr>\n",
       "  </thead>\n",
       "  <tbody>\n",
       "    <tr>\n",
       "      <th>0</th>\n",
       "      <td>Aaron Rodgers</td>\n",
       "      <td>QB</td>\n",
       "      <td>14.796933</td>\n",
       "      <td>1.000000</td>\n",
       "      <td>13.938434</td>\n",
       "      <td>0.858499</td>\n",
       "      <td>0.858499</td>\n",
       "    </tr>\n",
       "    <tr>\n",
       "      <th>1</th>\n",
       "      <td>Joe Flacco</td>\n",
       "      <td>QB</td>\n",
       "      <td>11.123332</td>\n",
       "      <td>1.000000</td>\n",
       "      <td>13.938434</td>\n",
       "      <td>-2.815101</td>\n",
       "      <td>-2.815101</td>\n",
       "    </tr>\n",
       "    <tr>\n",
       "      <th>2</th>\n",
       "      <td>Matthew Stafford</td>\n",
       "      <td>QB</td>\n",
       "      <td>12.841135</td>\n",
       "      <td>1.000000</td>\n",
       "      <td>13.938434</td>\n",
       "      <td>-1.097299</td>\n",
       "      <td>-1.097299</td>\n",
       "    </tr>\n",
       "    <tr>\n",
       "      <th>3</th>\n",
       "      <td>Andy Dalton</td>\n",
       "      <td>QB</td>\n",
       "      <td>5.168430</td>\n",
       "      <td>1.000000</td>\n",
       "      <td>13.938434</td>\n",
       "      <td>-8.770003</td>\n",
       "      <td>-8.770003</td>\n",
       "    </tr>\n",
       "    <tr>\n",
       "      <th>4</th>\n",
       "      <td>Russell Wilson</td>\n",
       "      <td>QB</td>\n",
       "      <td>13.695104</td>\n",
       "      <td>1.000000</td>\n",
       "      <td>13.938434</td>\n",
       "      <td>-0.243330</td>\n",
       "      <td>-0.243330</td>\n",
       "    </tr>\n",
       "    <tr>\n",
       "      <th>...</th>\n",
       "      <td>...</td>\n",
       "      <td>...</td>\n",
       "      <td>...</td>\n",
       "      <td>...</td>\n",
       "      <td>...</td>\n",
       "      <td>...</td>\n",
       "      <td>...</td>\n",
       "    </tr>\n",
       "    <tr>\n",
       "      <th>82</th>\n",
       "      <td>Brevyn Spann-Ford</td>\n",
       "      <td>TE</td>\n",
       "      <td>3.447732</td>\n",
       "      <td>1.449818</td>\n",
       "      <td>8.349370</td>\n",
       "      <td>-4.901638</td>\n",
       "      <td>-7.106485</td>\n",
       "    </tr>\n",
       "    <tr>\n",
       "      <th>83</th>\n",
       "      <td>Tip Reiman</td>\n",
       "      <td>TE</td>\n",
       "      <td>3.387752</td>\n",
       "      <td>1.449818</td>\n",
       "      <td>8.349370</td>\n",
       "      <td>-4.961618</td>\n",
       "      <td>-7.193446</td>\n",
       "    </tr>\n",
       "    <tr>\n",
       "      <th>84</th>\n",
       "      <td>A.J. Barner</td>\n",
       "      <td>TE</td>\n",
       "      <td>4.594644</td>\n",
       "      <td>1.449818</td>\n",
       "      <td>8.349370</td>\n",
       "      <td>-3.754726</td>\n",
       "      <td>-5.443671</td>\n",
       "    </tr>\n",
       "    <tr>\n",
       "      <th>85</th>\n",
       "      <td>Erick All</td>\n",
       "      <td>TE</td>\n",
       "      <td>2.831975</td>\n",
       "      <td>1.449818</td>\n",
       "      <td>8.349370</td>\n",
       "      <td>-5.517395</td>\n",
       "      <td>-7.999221</td>\n",
       "    </tr>\n",
       "    <tr>\n",
       "      <th>86</th>\n",
       "      <td>Theo Johnson</td>\n",
       "      <td>TE</td>\n",
       "      <td>4.185240</td>\n",
       "      <td>1.449818</td>\n",
       "      <td>8.349370</td>\n",
       "      <td>-4.164129</td>\n",
       "      <td>-6.037232</td>\n",
       "    </tr>\n",
       "  </tbody>\n",
       "</table>\n",
       "<p>406 rows × 7 columns</p>\n",
       "</div>"
      ],
      "text/plain": [
       "   player_display_name position_group  next_fantasy_points  importance  \\\n",
       "0        Aaron Rodgers             QB            14.796933    1.000000   \n",
       "1           Joe Flacco             QB            11.123332    1.000000   \n",
       "2     Matthew Stafford             QB            12.841135    1.000000   \n",
       "3          Andy Dalton             QB             5.168430    1.000000   \n",
       "4       Russell Wilson             QB            13.695104    1.000000   \n",
       "..                 ...            ...                  ...         ...   \n",
       "82   Brevyn Spann-Ford             TE             3.447732    1.449818   \n",
       "83          Tip Reiman             TE             3.387752    1.449818   \n",
       "84         A.J. Barner             TE             4.594644    1.449818   \n",
       "85           Erick All             TE             2.831975    1.449818   \n",
       "86        Theo Johnson             TE             4.185240    1.449818   \n",
       "\n",
       "    replacement       PAR  draft_value  \n",
       "0     13.938434  0.858499     0.858499  \n",
       "1     13.938434 -2.815101    -2.815101  \n",
       "2     13.938434 -1.097299    -1.097299  \n",
       "3     13.938434 -8.770003    -8.770003  \n",
       "4     13.938434 -0.243330    -0.243330  \n",
       "..          ...       ...          ...  \n",
       "82     8.349370 -4.901638    -7.106485  \n",
       "83     8.349370 -4.961618    -7.193446  \n",
       "84     8.349370 -3.754726    -5.443671  \n",
       "85     8.349370 -5.517395    -7.999221  \n",
       "86     8.349370 -4.164129    -6.037232  \n",
       "\n",
       "[406 rows x 7 columns]"
      ]
     },
     "execution_count": 336,
     "metadata": {},
     "output_type": "execute_result"
    }
   ],
   "source": [
    "big_board"
   ]
  }
 ],
 "metadata": {
  "kernelspec": {
   "display_name": ".venv",
   "language": "python",
   "name": "python3"
  },
  "language_info": {
   "codemirror_mode": {
    "name": "ipython",
    "version": 3
   },
   "file_extension": ".py",
   "mimetype": "text/x-python",
   "name": "python",
   "nbconvert_exporter": "python",
   "pygments_lexer": "ipython3",
   "version": "3.12.8"
  }
 },
 "nbformat": 4,
 "nbformat_minor": 5
}
